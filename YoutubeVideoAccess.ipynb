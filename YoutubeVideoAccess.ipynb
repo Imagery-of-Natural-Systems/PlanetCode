{
 "cells": [
  {
   "cell_type": "code",
   "execution_count": 10,
   "metadata": {},
   "outputs": [
    {
     "name": "stdout",
     "output_type": "stream",
     "text": [
      "krakatoa\n",
      "The first most popular video is http://www.youtube.com/watch?v=MrEIT66oPqU\n",
      "The second most popular video is http://www.youtube.com/watch?v=NLhjNzQHphQ\n",
      "The third most popular video is http://www.youtube.com/watch?v=v4wKipsqN_Y\n",
      "The fourth most popular video is http://www.youtube.com/watch?v=NGcbNn4Vk1w\n"
     ]
    }
   ],
   "source": [
    "import urllib.request\n",
    "import urllib.parse\n",
    "import re\n",
    "\n",
    "query_string = urllib.parse.urlencode({\"search_query\" : input()})\n",
    "html_content = urllib.request.urlopen(\"http://www.youtube.com/results?\" + query_string)\n",
    "search_results = re.findall(r'href=\\\"\\/watch\\?v=(.{11})', html_content.read().decode())\n",
    "\n",
    "print(\"The first most popular video is \"\"http://www.youtube.com/watch?v=\" + search_results[0])\n",
    "print(\"The second most popular video is \"\"http://www.youtube.com/watch?v=\" + search_results[2])\n",
    "print(\"The third most popular video is \"\"http://www.youtube.com/watch?v=\" + search_results[4])\n",
    "print(\"The fourth most popular video is \"\"http://www.youtube.com/watch?v=\" + search_results[6])"
   ]
  },
  {
   "cell_type": "code",
   "execution_count": null,
   "metadata": {},
   "outputs": [],
   "source": []
  }
 ],
 "metadata": {
  "kernelspec": {
   "display_name": "Python 3",
   "language": "python",
   "name": "python3"
  },
  "language_info": {
   "codemirror_mode": {
    "name": "ipython",
    "version": 3
   },
   "file_extension": ".py",
   "mimetype": "text/x-python",
   "name": "python",
   "nbconvert_exporter": "python",
   "pygments_lexer": "ipython3",
   "version": "3.6.5"
  }
 },
 "nbformat": 4,
 "nbformat_minor": 2
}
