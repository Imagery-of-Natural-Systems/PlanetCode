{
 "cells": [
  {
   "cell_type": "code",
   "execution_count": 8,
   "metadata": {},
   "outputs": [
    {
     "ename": "SyntaxError",
     "evalue": "invalid syntax (<ipython-input-8-1c2c70459d24>, line 34)",
     "output_type": "error",
     "traceback": [
      "\u001b[1;36m  File \u001b[1;32m\"<ipython-input-8-1c2c70459d24>\"\u001b[1;36m, line \u001b[1;32m34\u001b[0m\n\u001b[1;33m    api.php?action=query&format=json&prop=revisions&titles=Pet_door&formatversion=2&rvprop=content&rvslots=*\u001b[0m\n\u001b[1;37m           ^\u001b[0m\n\u001b[1;31mSyntaxError\u001b[0m\u001b[1;31m:\u001b[0m invalid syntax\n"
     ]
    }
   ],
   "source": [
    "#!/usr/bin/python3\n",
    "\n",
    "\"\"\"\n",
    "    search.py\n",
    "\n",
    "    MediaWiki API Demos\n",
    "    Demo of `Search` module: Search for a text or title\n",
    "\n",
    "    MIT License\n",
    "\"\"\"\n",
    "\n",
    "import requests\n",
    "\n",
    "S = requests.Session()\n",
    "\n",
    "URL = \"https://en.wikipedia.org/w/api.php\"\n",
    "\n",
    "SEARCHPAGE = \"Nelson Mandela\"\n",
    "\n",
    "PARAMS = {\n",
    "    \"action\": \"query\",\n",
    "    \"format\": \"json\",\n",
    "    \"list\": \"search\",\n",
    "    \"srsearch\": SEARCHPAGE\n",
    "}\n",
    "\n",
    "R = S.get(url=URL, params=PARAMS)\n",
    "DATA = R.json()\n",
    "\n",
    "if DATA['query']['search'][0]['title'] == SEARCHPAGE:\n",
    "    print(\"Your search page '\" + SEARCHPAGE + \"' exists on English Wikipedia\")\n",
    "    #print(\"Your URL is \" + )\n",
    "    \n",
    "/w/api.php?action=query&format=json&prop=revisions&titles=Pet_door&formatversion=2&rvprop=content&rvslots=*"
   ]
  },
  {
   "cell_type": "code",
   "execution_count": 11,
   "metadata": {},
   "outputs": [
    {
     "name": "stdout",
     "output_type": "stream",
     "text": [
      "['Krakatoa archipelago', 'Krakatoa', 'Anak Krakatoa', '1883 eruption of Krakatoa', '2018 Sunda Strait tsunami']\n",
      "Krakatoa archipelago\n",
      "https://en.wikipedia.org/wiki/Krakatoa_archipelago\n",
      "Krakatoa\n",
      "https://en.wikipedia.org/wiki/Krakatoa\n",
      "Anak Krakatoa\n",
      "https://en.wikipedia.org/wiki/Anak_Krakatoa\n",
      "1883 eruption of Krakatoa\n",
      "https://en.wikipedia.org/wiki/1883_eruption_of_Krakatoa\n",
      "2018 Sunda Strait tsunami\n",
      "https://en.wikipedia.org/wiki/2018_Sunda_Strait_tsunami\n"
     ]
    }
   ],
   "source": [
    "import wikipedia\n",
    "import numpy as np\n",
    "\n",
    "Long = 105.422989 #105.35270690917969\n",
    "Lat = -6.102118 #-6.117683645476741\n",
    "\n",
    "Data_List = wikipedia.geosearch(Lat, Long, results = 5)\n",
    "\n",
    "print(Data_List)\n",
    "\n",
    "len(Data_List)\n",
    "\n",
    "for i in Data_List:\n",
    "    print (i)\n",
    "    print(wikipedia.page(i).url)"
   ]
  },
  {
   "cell_type": "code",
   "execution_count": null,
   "metadata": {},
   "outputs": [],
   "source": []
  }
 ],
 "metadata": {
  "kernelspec": {
   "display_name": "Python 3",
   "language": "python",
   "name": "python3"
  },
  "language_info": {
   "codemirror_mode": {
    "name": "ipython",
    "version": 3
   },
   "file_extension": ".py",
   "mimetype": "text/x-python",
   "name": "python",
   "nbconvert_exporter": "python",
   "pygments_lexer": "ipython3",
   "version": "3.6.5"
  }
 },
 "nbformat": 4,
 "nbformat_minor": 2
}
