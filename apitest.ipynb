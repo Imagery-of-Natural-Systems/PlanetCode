{
 "cells": [
  {
   "cell_type": "code",
   "execution_count": 1,
   "metadata": {},
   "outputs": [],
   "source": [
    "from planet import api\n",
    "from planet.api import filters\n",
    "from sys import stdout\n",
    "import urllib.request\n",
    "import shutil\n",
    "from requests.auth import HTTPBasicAuth\n",
    "import os\n",
    "import time\n",
    "import requests\n",
    "import cv2\n",
    "import glob\n",
    "import subprocess\n",
    "import rasterio\n",
    "import numpy as np\n",
    "import os\n",
    "import matplotlib.pyplot as plt\n",
    "import matplotlib.colors as colors"
   ]
  },
  {
   "cell_type": "code",
   "execution_count": 2,
   "metadata": {},
   "outputs": [
    {
     "name": "stdout",
     "output_type": "stream",
     "text": [
      "Please enter you Planet API key:fa8bc840c2af4b52a4f6a69e3489fd10\n"
     ]
    }
   ],
   "source": [
    "api_key = input(\"Please enter you Planet API key:\") "
   ]
  },
  {
   "cell_type": "code",
   "execution_count": 3,
   "metadata": {},
   "outputs": [],
   "source": [
    "client = api.ClientV1(api_key) \n",
    "PL_API_KEY = api_key"
   ]
  },
  {
   "cell_type": "code",
   "execution_count": 4,
   "metadata": {},
   "outputs": [],
   "source": [
    "geo_json_geometry = {\n",
    "  \"type\": \"Polygon\",\n",
    "        \"coordinates\": [\n",
    "          [\n",
    "            [\n",
    "              105.35270690917969,\n",
    "              -6.117683645476741\n",
    "            ],\n",
    "            [\n",
    "              105.47595977783203,\n",
    "              -6.117683645476741\n",
    "            ],\n",
    "            [\n",
    "              105.47595977783203,\n",
    "              -6.068183062989519\n",
    "            ],\n",
    "            [\n",
    "              105.35270690917969,\n",
    "              -6.068183062989519\n",
    "            ],\n",
    "            [\n",
    "              105.35270690917969,\n",
    "              -6.117683645476741\n",
    "            ]\n",
    "          ]\n",
    "        ]\n",
    "      }"
   ]
  },
  {
   "cell_type": "code",
   "execution_count": 5,
   "metadata": {},
   "outputs": [],
   "source": [
    "geometry_filter = {\n",
    "    \"type\": \"GeometryFilter\",\n",
    "    \"field_name\": \"geometry\",\n",
    "    \"config\": geo_json_geometry\n",
    "}"
   ]
  },
  {
   "cell_type": "code",
   "execution_count": 6,
   "metadata": {},
   "outputs": [],
   "source": [
    "date_range_filter = {\n",
    "    \"type\": \"DateRangeFilter\",\n",
    "    \"field_name\": \"acquired\",\n",
    "    \"config\": {\n",
    "        \"gte\": \"2018-12-04T00:00:00.000Z\",\n",
    "        \"lte\": \"2018-12-20T00:00:00.000Z\"\n",
    "    }\n",
    "}"
   ]
  },
  {
   "cell_type": "code",
   "execution_count": 7,
   "metadata": {},
   "outputs": [],
   "source": [
    "cloud_cover_filter = {\n",
    "    \"type\": \"RangeFilter\",\n",
    "    \"field_name\": \"cloud_cover\",\n",
    "    \"config\": {\n",
    "        \"lte\": 0.2,\n",
    "    }\n",
    "}"
   ]
  },
  {
   "cell_type": "code",
   "execution_count": 8,
   "metadata": {},
   "outputs": [],
   "source": [
    "item_types = ['PSScene4Band']\n",
    "asset_type = 'analytic'"
   ]
  },
  {
   "cell_type": "code",
   "execution_count": 9,
   "metadata": {},
   "outputs": [],
   "source": [
    "query = {\n",
    "    \"type\": \"AndFilter\",\n",
    "    \"config\": [geometry_filter, date_range_filter, cloud_cover_filter]\n",
    "}"
   ]
  },
  {
   "cell_type": "code",
   "execution_count": 10,
   "metadata": {},
   "outputs": [],
   "source": [
    "request = filters.build_search_request(\n",
    "    query, item_types\n",
    ")"
   ]
  },
  {
   "cell_type": "code",
   "execution_count": 11,
   "metadata": {},
   "outputs": [
    {
     "name": "stdout",
     "output_type": "stream",
     "text": [
      "id,cloud_cover,date\n"
     ]
    }
   ],
   "source": [
    "dataset = client.quick_search(request)\n",
    "\n",
    "stdout.write('id,cloud_cover,date\\n')"
   ]
  },
  {
   "cell_type": "code",
   "execution_count": 12,
   "metadata": {},
   "outputs": [
    {
     "name": "stdout",
     "output_type": "stream",
     "text": [
      "20181217_025142_101e,0.01,2018-12-17T02:51:42.296592Z\n",
      "20181217_025143_101e,0.01,2018-12-17T02:51:43.330487Z\n",
      "20181218_031148_0f33,0.17,2018-12-18T03:11:48.793389Z\n",
      "20181218_031147_0f33,0.08,2018-12-18T03:11:47.844952Z\n"
     ]
    }
   ],
   "source": [
    "for item in dataset.items_iter(limit=None):\n",
    "    props = item['properties']\n",
    "    stdout.write('{0},{cloud_cover},{acquired}\\n'.format(item['id'], **props))"
   ]
  },
  {
   "cell_type": "code",
   "execution_count": 13,
   "metadata": {},
   "outputs": [
    {
     "name": "stdout",
     "output_type": "stream",
     "text": [
      "PSScene4Band\n",
      "20181217_025142_101e\n",
      "204\n",
      "20181217_025143_101e\n",
      "204\n",
      "20181218_031148_0f33\n",
      "204\n",
      "20181218_031147_0f33\n",
      "204\n"
     ]
    }
   ],
   "source": [
    "for i in item_types:\n",
    "    request = api.filters.build_search_request(query, [i])  # ,name = None, interval= 'day')\n",
    "    dataset = client.quick_search(request)\n",
    "    print(i)\n",
    "    for item in dataset.items_iter(limit=4):\n",
    "        print(item['id'])\n",
    "        session = requests.Session()\n",
    "        session.auth = (PL_API_KEY, '')\n",
    "        results = \\\n",
    "            session.get(\n",
    "                (\"https://api.planet.com/data/v1/item-types/\" +\n",
    "                 \"{}/items/{}/assets/\").format(i, item['id']))\n",
    "       \n",
    "        item_activation_url = results.json()[asset_type][\"_links\"][\"activate\"]\n",
    "       \n",
    "        response = session.post(item_activation_url)\n",
    "        print(response.status_code)\n",
    "        while response.status_code != 204:\n",
    "            time.sleep(30)\n",
    "            response = session.post(item_activation_url)\n",
    "            response.status_code = response.status_code\n",
    "            print(response.status_code)\n",
    "        \n",
    "        item_url = 'https://api.planet.com/data/v1/item-types/{}/items/{}/assets'.format(i, item['id'])\n",
    "        result = requests.get(item_url, auth=HTTPBasicAuth(PL_API_KEY, ''))\n",
    "        download_url = result.json()[asset_type]['location']  # KeyError: 'location'\n",
    "        output_file = item['id'] + '.tif'\n",
    "\n",
    "        with urllib.request.urlopen(download_url) as response, open(output_file, 'wb') as out_file:\n",
    "            shutil.copyfileobj(response, out_file)"
   ]
  },
  {
   "cell_type": "code",
   "execution_count": 14,
   "metadata": {},
   "outputs": [],
   "source": [
    "os.getcwd()\n",
    "os.mkdir('Original_Imagery')"
   ]
  },
  {
   "cell_type": "code",
   "execution_count": 15,
   "metadata": {},
   "outputs": [],
   "source": [
    "sp = os.getcwd()\n",
    "sf = os.listdir(sp)\n",
    "dp = sp + ('\\\\Original_Imagery')\n",
    "for file in sf:\n",
    "    if file.endswith('.tif'):\n",
    "        shutil.move(os.path.join(sp,file), os.path.join(dp, file))"
   ]
  },
  {
   "cell_type": "code",
   "execution_count": 16,
   "metadata": {},
   "outputs": [],
   "source": [
    "images = [f for f in os.listdir(dp) if os.path.isfile(os.path.join(dp, f))]\n",
    "\n",
    "for image in images:\n",
    "    folder_name = image.split('_')[0]\n",
    "\n",
    "    new_path = os.path.join(dp, folder_name)\n",
    "    if not os.path.exists(new_path):\n",
    "        os.makedirs(new_path)\n",
    "\n",
    "    old_image_path = os.path.join(dp, image)\n",
    "    new_image_path = os.path.join(new_path, image)\n",
    "    shutil.move(old_image_path, new_image_path)"
   ]
  },
  {
   "cell_type": "code",
   "execution_count": 17,
   "metadata": {},
   "outputs": [
    {
     "name": "stdout",
     "output_type": "stream",
     "text": [
      "python C:\\Users\\cengelso\\Documents\\IONS\\gdal_merge.py -o 20181217.tif -of gtiff C:\\Users\\cengelso\\Documents\\IONS\\Original_Imagery\\20181217\\20181217_025142_101e.tif C:\\Users\\cengelso\\Documents\\IONS\\Original_Imagery\\20181217\\20181217_025143_101e.tif\n",
      "0...10...20...30...40...50...60...70...80...90...100 - done.\n",
      "python C:\\Users\\cengelso\\Documents\\IONS\\gdal_merge.py -o 20181218.tif -of gtiff C:\\Users\\cengelso\\Documents\\IONS\\Original_Imagery\\20181218\\20181218_031147_0f33.tif C:\\Users\\cengelso\\Documents\\IONS\\Original_Imagery\\20181218\\20181218_031148_0f33.tif\n",
      "0...10...20...30...40...50...60...70...80...90...100 - done.\n"
     ]
    }
   ],
   "source": [
    "folders = []\n",
    "for r, d, f in os.walk(dp):\n",
    "    for folder in d:\n",
    "        folders.append(os.path.join(r, folder))\n",
    "\n",
    "i = 0\n",
    "for x in folders:\n",
    "    files_to_mosaic = glob.glob(folders[i] + '/*.tif')\n",
    "    files_string = \" \".join(files_to_mosaic)\n",
    "    command = \"python \" + sp + \"\\gdal_merge.py -o \"+ files_string[-33:-25] + \".tif\" + \" -of gtiff \" + files_string\n",
    "    print(command)\n",
    "    i = i + 1\n",
    "    output = subprocess.getoutput(command)\n",
    "    print(output)"
   ]
  },
  {
   "cell_type": "code",
   "execution_count": 18,
   "metadata": {},
   "outputs": [],
   "source": [
    "os.mkdir('Merged_Tifs')"
   ]
  },
  {
   "cell_type": "code",
   "execution_count": 19,
   "metadata": {},
   "outputs": [],
   "source": [
    "sp2 = os.getcwd()\n",
    "sf2 = os.listdir(sp2)\n",
    "dp2 = sp2 + ('\\\\Merged_Tifs')\n",
    "for file in sf2:\n",
    "    if file.endswith('.tif'):\n",
    "        shutil.move(os.path.join(sp2,file), os.path.join(dp2, file))"
   ]
  },
  {
   "cell_type": "code",
   "execution_count": 20,
   "metadata": {},
   "outputs": [],
   "source": [
    "os.chdir(sp2 + '\\\\Merged_Tifs')"
   ]
  },
  {
   "cell_type": "code",
   "execution_count": 27,
   "metadata": {
    "scrolled": false
   },
   "outputs": [
    {
     "data": {
      "image/png": "[encoded data removed]",
      "text/plain": [
       "<Figure size 720x720 with 1 Axes>"
      ]
     },
     "metadata": {
      "needs_background": "light"
     },
     "output_type": "display_data"
    },
    {
     "data": {
      "image/png": "[encoded data removed]",
      "text/plain": [
       "<Figure size 720x720 with 1 Axes>"
      ]
     },
     "metadata": {
      "needs_background": "light"
     },
     "output_type": "display_data"
    }
   ],
   "source": [
    "files = []\n",
    "for r, d, f in os.walk(dp2):\n",
    "    for file in f:\n",
    "        files.append(os.path.join(r, file))\n",
    "        \n",
    "\n",
    "i = 0\n",
    "for x in files:\n",
    "    with rasterio.open(files[i]) as src:\n",
    "            band_red = src.read(3)\n",
    "    with rasterio.open(files[i]) as src:\n",
    "            band_nir = src.read(4)\n",
    "            \n",
    "    np.seterr(divide='ignore', invalid='ignore')\n",
    "    ndvi = ((band_nir.astype(float) - band_red.astype(float)) / (band_nir + band_red))\n",
    "    \n",
    "    \n",
    "    kwargs = src.meta\n",
    "    kwargs.update(\n",
    "    dtype = rasterio.float32,\n",
    "    count = 1)\n",
    "    with rasterio.open('ndvi_' + f[i], 'w', **kwargs) as dst:\n",
    "        dst.write_band(1, ndvi.astype(rasterio.float32))\n",
    "        \n",
    "    \n",
    "    \n",
    "    fig2 = plt.figure(figsize=(10,10))\n",
    "    ax = fig2.add_subplot(111)\n",
    "    \n",
    "    plt.title(f[i] + \" NDVI Histogram\", fontsize=18, fontweight='bold')\n",
    "    plt.xlabel(\"NDVI values\", fontsize=14)\n",
    "    plt.ylabel(\"# pixels\", fontsize=14)\n",
    "    \n",
    "    b = ndvi[~np.isnan(ndvi)]\n",
    "    numBins = 20\n",
    "    ax.hist(b,numBins,color='blue',alpha=0.8)\n",
    "    \n",
    "    fig2.savefig(\"ndvi_\" + f[i][0:8] + \"_histogram.png\", dpi=200, bbox_inches='tight', pad_inches=0.7)\n",
    "\n",
    "    \n",
    "    ndvi_adjusted = ndvi * (-255.0)\n",
    "    masked_ndvi_adjusted = np.ma.array(ndvi_adjusted, mask=np.isnan(ndvi_adjusted))\n",
    "    cmap = plt.cm.RdYlGn\n",
    "    cmap.set_bad(color = 'white',alpha = 0.0)\n",
    "    img = masked_ndvi_adjusted.astype(np.uint8)\n",
    "    plt.imsave(\"ndvi_\" + f[i][0:8] + \"_colormap.tiff\", img, cmap=cmap)\n",
    "       \n",
    "    i = i + 1"
   ]
  },
  {
   "cell_type": "code",
   "execution_count": 22,
   "metadata": {},
   "outputs": [],
   "source": [
    "sp3 = os.getcwd()\n",
    "sf3 = os.listdir(sp3)\n",
    "\n",
    "for file in sf3:\n",
    "    if file.startswith('ndvi'):\n",
    "        shutil.move(os.path.join(sp3,file), os.path.join(sp2,file))"
   ]
  },
  {
   "cell_type": "code",
   "execution_count": 23,
   "metadata": {},
   "outputs": [],
   "source": [
    "os.chdir(sp2)\n",
    "os.mkdir('Vegetation_Indices')"
   ]
  },
  {
   "cell_type": "code",
   "execution_count": 24,
   "metadata": {},
   "outputs": [],
   "source": [
    "sp4 = os.getcwd()\n",
    "sf4 = os.listdir(sp4)\n",
    "dp4 = sp2 + '\\\\Vegetation_Indices'\n",
    "\n",
    "for file in sf3:\n",
    "    if file.startswith('ndvi'):\n",
    "        shutil.move(os.path.join(sp4,file), os.path.join(dp4,file))"
   ]
  },
  {
   "cell_type": "code",
   "execution_count": null,
   "metadata": {},
   "outputs": [],
   "source": []
  }
 ],
 "metadata": {
  "kernelspec": {
   "display_name": "Python 3",
   "language": "python",
   "name": "python3"
  },
  "language_info": {
   "codemirror_mode": {
    "name": "ipython",
    "version": 3
   },
   "file_extension": ".py",
   "mimetype": "text/x-python",
   "name": "python",
   "nbconvert_exporter": "python",
   "pygments_lexer": "ipython3",
   "version": "3.7.4"
  }
 },
 "nbformat": 4,
 "nbformat_minor": 4
}
