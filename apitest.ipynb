{
 "cells": [
  {
   "cell_type": "code",
   "execution_count": 49,
   "metadata": {},
   "outputs": [],
   "source": [
    "from planet import api\n",
    "from planet.api import filters\n",
    "from sys import stdout\n",
    "import urllib.request\n",
    "import shutil\n",
    "from requests.auth import HTTPBasicAuth\n",
    "import os\n",
    "import time\n",
    "import requests\n",
    "import cv2\n",
    "import glob\n",
    "import subprocess\n",
    "import rasterio\n",
    "import numpy as np\n",
    "import os\n",
    "import matplotlib.pyplot as plt\n",
    "import matplotlib.colors as colors\n",
    "import wikipedia\n",
    "import datetime"
   ]
  },
  {
   "cell_type": "code",
   "execution_count": 7,
   "metadata": {},
   "outputs": [
    {
     "name": "stdin",
     "output_type": "stream",
     "text": [
      "Please input your volcano of interest: Anak Krakatau\n"
     ]
    }
   ],
   "source": [
    "title = input(\"Please input your volcano of interest:\")"
   ]
  },
  {
   "cell_type": "code",
   "execution_count": 10,
   "metadata": {},
   "outputs": [],
   "source": [
    "page = wikipedia.WikipediaPage(title)"
   ]
  },
  {
   "cell_type": "code",
   "execution_count": 11,
   "metadata": {},
   "outputs": [],
   "source": [
    "lat = float(page.coordinates[0])\n",
    "long = float(page.coordinates[1])"
   ]
  },
  {
   "cell_type": "code",
   "execution_count": 12,
   "metadata": {},
   "outputs": [
    {
     "name": "stdin",
     "output_type": "stream",
     "text": [
      "Please input your start date (YYYY-MM-DD): 2018-11-12\n"
     ]
    }
   ],
   "source": [
    "start_date = input(\"Please input your start date (YYYY-MM-DD):\")"
   ]
  },
  {
   "cell_type": "code",
   "execution_count": 13,
   "metadata": {},
   "outputs": [
    {
     "name": "stdin",
     "output_type": "stream",
     "text": [
      "Please input your end date (YYYY-MM-DD): 2018-11-21\n"
     ]
    }
   ],
   "source": [
    "end_date = input(\"Please input your end date (YYYY-MM-DD):\")"
   ]
  },
  {
   "cell_type": "code",
   "execution_count": 14,
   "metadata": {},
   "outputs": [
    {
     "name": "stdin",
     "output_type": "stream",
     "text": [
      "Please input you Planet API key: 219bc2e637384268a2d606dd8c05e7a7\n"
     ]
    }
   ],
   "source": [
    "api_key = input(\"Please input you Planet API key:\") "
   ]
  },
  {
   "cell_type": "code",
   "execution_count": 15,
   "metadata": {},
   "outputs": [],
   "source": [
    "client = api.ClientV1(api_key) \n",
    "PL_API_KEY = api_key"
   ]
  },
  {
   "cell_type": "code",
   "execution_count": 16,
   "metadata": {},
   "outputs": [],
   "source": [
    "geo_json_geometry = {\n",
    "  \"type\": \"Polygon\",\n",
    "        \"coordinates\": [\n",
    "          [\n",
    "            [\n",
    "              long - 0.07,\n",
    "              lat + 0.07\n",
    "            ],\n",
    "            [\n",
    "              long + 0.07,\n",
    "              lat + 0.07\n",
    "            ],\n",
    "            [\n",
    "              long + 0.07,\n",
    "              lat - 0.07\n",
    "            ],\n",
    "            [\n",
    "              long - 0.07,\n",
    "              lat - 0.07\n",
    "            ],\n",
    "            [\n",
    "              long - 0.07,\n",
    "              lat + 0.07\n",
    "            ]\n",
    "          ]\n",
    "        ]\n",
    "      }"
   ]
  },
  {
   "cell_type": "code",
   "execution_count": 17,
   "metadata": {},
   "outputs": [],
   "source": [
    "geometry_filter = {\n",
    "    \"type\": \"GeometryFilter\",\n",
    "    \"field_name\": \"geometry\",\n",
    "    \"config\": geo_json_geometry\n",
    "}"
   ]
  },
  {
   "cell_type": "code",
   "execution_count": 18,
   "metadata": {},
   "outputs": [],
   "source": [
    "date_range_filter = {\n",
    "    \"type\": \"DateRangeFilter\",\n",
    "    \"field_name\": \"acquired\",\n",
    "    \"config\": {\n",
    "        \"gte\": start_date + \"T00:00:00.000Z\",\n",
    "        \"lte\": end_date + \"T00:00:00.000Z\"\n",
    "    }\n",
    "}"
   ]
  },
  {
   "cell_type": "code",
   "execution_count": 19,
   "metadata": {},
   "outputs": [],
   "source": [
    "cloud_cover_filter = {\n",
    "    \"type\": \"RangeFilter\",\n",
    "    \"field_name\": \"cloud_cover\",\n",
    "    \"config\": {\n",
    "        \"lte\": 0.2,\n",
    "    }\n",
    "}"
   ]
  },
  {
   "cell_type": "code",
   "execution_count": 20,
   "metadata": {},
   "outputs": [],
   "source": [
    "item_types = ['PSScene4Band']\n",
    "asset_type = 'analytic'"
   ]
  },
  {
   "cell_type": "code",
   "execution_count": 21,
   "metadata": {},
   "outputs": [],
   "source": [
    "query = {\n",
    "    \"type\": \"AndFilter\",\n",
    "    \"config\": [geometry_filter, date_range_filter, cloud_cover_filter]\n",
    "}"
   ]
  },
  {
   "cell_type": "code",
   "execution_count": 22,
   "metadata": {},
   "outputs": [],
   "source": [
    "request = filters.build_search_request(\n",
    "    query, item_types\n",
    ")"
   ]
  },
  {
   "cell_type": "code",
   "execution_count": 23,
   "metadata": {},
   "outputs": [
    {
     "name": "stdout",
     "output_type": "stream",
     "text": [
      "id,cloud_cover,date\n"
     ]
    }
   ],
   "source": [
    "dataset = client.quick_search(request)\n",
    "\n",
    "stdout.write('id,cloud_cover,date\\n')"
   ]
  },
  {
   "cell_type": "code",
   "execution_count": 24,
   "metadata": {},
   "outputs": [
    {
     "name": "stdout",
     "output_type": "stream",
     "text": [
      "20181119_025022_103c,0.02,2018-11-19T02:50:22.454971Z\n",
      "20181117_024659_0e20,0.01,2018-11-17T02:46:59.204854Z\n",
      "20181117_024701_0e20,0.02,2018-11-17T02:47:01.281035Z\n",
      "20181117_024700_0e20,0.03,2018-11-17T02:47:00.242945Z\n",
      "20181116_025055_1008,0,2018-11-16T02:50:55.681319Z\n",
      "20181116_025054_1008,0.01,2018-11-16T02:50:54.635364Z\n",
      "20181116_025053_1008,0,2018-11-16T02:50:53.588885Z\n",
      "20181116_025052_1008,0,2018-11-16T02:50:52.542406Z\n",
      "20181116_031618_1049,0,2018-11-16T03:16:18.753122Z\n",
      "20181116_031617_1049,0,2018-11-16T03:16:17.773752Z\n",
      "20181116_031619_1049,0,2018-11-16T03:16:19.733016Z\n"
     ]
    }
   ],
   "source": [
    "for item in dataset.items_iter(limit=None):\n",
    "    props = item['properties']\n",
    "    stdout.write('{0},{cloud_cover},{acquired}\\n'.format(item['id'], **props))"
   ]
  },
  {
   "cell_type": "code",
   "execution_count": 25,
   "metadata": {},
   "outputs": [
    {
     "name": "stdout",
     "output_type": "stream",
     "text": [
      "PSScene4Band\n",
      "20181119_025022_103c\n",
      "204\n",
      "20181117_024659_0e20\n",
      "204\n",
      "20181117_024701_0e20\n",
      "204\n",
      "20181117_024700_0e20\n",
      "204\n",
      "20181116_025055_1008\n",
      "204\n",
      "20181116_025054_1008\n",
      "204\n",
      "20181116_025053_1008\n",
      "204\n",
      "20181116_025052_1008\n",
      "204\n",
      "20181116_031618_1049\n",
      "204\n",
      "20181116_031617_1049\n",
      "204\n",
      "20181116_031619_1049\n",
      "204\n"
     ]
    }
   ],
   "source": [
    "for i in item_types:\n",
    "    request = api.filters.build_search_request(query, [i])  # ,name = None, interval= 'day')\n",
    "    dataset = client.quick_search(request)\n",
    "    print(i)\n",
    "    for item in dataset.items_iter(limit=50):\n",
    "        print(item['id'])\n",
    "        session = requests.Session()\n",
    "        session.auth = (PL_API_KEY, '')\n",
    "        results = \\\n",
    "            session.get(\n",
    "                (\"https://api.planet.com/data/v1/item-types/\" +\n",
    "                 \"{}/items/{}/assets/\").format(i, item['id']))\n",
    "       \n",
    "        item_activation_url = results.json()[asset_type][\"_links\"][\"activate\"]\n",
    "       \n",
    "        response = session.post(item_activation_url)\n",
    "        print(response.status_code)\n",
    "        while response.status_code != 204:\n",
    "            time.sleep(30)\n",
    "            response = session.post(item_activation_url)\n",
    "            response.status_code = response.status_code\n",
    "            print(response.status_code)\n",
    "        \n",
    "        item_url = 'https://api.planet.com/data/v1/item-types/{}/items/{}/assets'.format(i, item['id'])\n",
    "        result = requests.get(item_url, auth=HTTPBasicAuth(PL_API_KEY, ''))\n",
    "        download_url = result.json()[asset_type]['location']  # KeyError: 'location'\n",
    "        output_file = item['id'] + '.tif'\n",
    "\n",
    "        with urllib.request.urlopen(download_url) as response, open(output_file, 'wb') as out_file:\n",
    "            shutil.copyfileobj(response, out_file)"
   ]
  },
  {
   "cell_type": "code",
   "execution_count": 26,
   "metadata": {},
   "outputs": [],
   "source": [
    "os.getcwd()\n",
    "os.mkdir('Original_Imagery')"
   ]
  },
  {
   "cell_type": "code",
   "execution_count": 27,
   "metadata": {},
   "outputs": [],
   "source": [
    "sp = os.getcwd()\n",
    "sf = os.listdir(sp)\n",
    "dp = sp + ('\\\\Original_Imagery')\n",
    "for file in sf:\n",
    "    if file.endswith('.tif'):\n",
    "        shutil.move(os.path.join(sp,file), os.path.join(dp, file))"
   ]
  },
  {
   "cell_type": "code",
   "execution_count": 28,
   "metadata": {},
   "outputs": [],
   "source": [
    "images = [f for f in os.listdir(dp) if os.path.isfile(os.path.join(dp, f))]\n",
    "\n",
    "for image in images:\n",
    "    folder_name = image.split('_')[0]\n",
    "\n",
    "    new_path = os.path.join(dp, folder_name)\n",
    "    if not os.path.exists(new_path):\n",
    "        os.makedirs(new_path)\n",
    "\n",
    "    old_image_path = os.path.join(dp, image)\n",
    "    new_image_path = os.path.join(new_path, image)\n",
    "    shutil.move(old_image_path, new_image_path)"
   ]
  },
  {
   "cell_type": "code",
   "execution_count": 29,
   "metadata": {},
   "outputs": [
    {
     "name": "stdout",
     "output_type": "stream",
     "text": [
      "python C:\\Users\\maddi\\Downloads\\PlanetCode-Integration-and-sorting-patch-2\\PlanetCode-Integration-and-sorting-patch-2\\gdal_merge.py -o 20181116.tif -of gtiff C:\\Users\\maddi\\Downloads\\PlanetCode-Integration-and-sorting-patch-2\\PlanetCode-Integration-and-sorting-patch-2\\Original_Imagery\\20181116\\20181116_025052_1008.tif C:\\Users\\maddi\\Downloads\\PlanetCode-Integration-and-sorting-patch-2\\PlanetCode-Integration-and-sorting-patch-2\\Original_Imagery\\20181116\\20181116_025053_1008.tif C:\\Users\\maddi\\Downloads\\PlanetCode-Integration-and-sorting-patch-2\\PlanetCode-Integration-and-sorting-patch-2\\Original_Imagery\\20181116\\20181116_025054_1008.tif C:\\Users\\maddi\\Downloads\\PlanetCode-Integration-and-sorting-patch-2\\PlanetCode-Integration-and-sorting-patch-2\\Original_Imagery\\20181116\\20181116_025055_1008.tif C:\\Users\\maddi\\Downloads\\PlanetCode-Integration-and-sorting-patch-2\\PlanetCode-Integration-and-sorting-patch-2\\Original_Imagery\\20181116\\20181116_031617_1049.tif C:\\Users\\maddi\\Downloads\\PlanetCode-Integration-and-sorting-patch-2\\PlanetCode-Integration-and-sorting-patch-2\\Original_Imagery\\20181116\\20181116_031618_1049.tif C:\\Users\\maddi\\Downloads\\PlanetCode-Integration-and-sorting-patch-2\\PlanetCode-Integration-and-sorting-patch-2\\Original_Imagery\\20181116\\20181116_031619_1049.tif\n",
      "0...10...20...30...40...50...60...70...80...90...100 - done.\n",
      "python C:\\Users\\maddi\\Downloads\\PlanetCode-Integration-and-sorting-patch-2\\PlanetCode-Integration-and-sorting-patch-2\\gdal_merge.py -o 20181117.tif -of gtiff C:\\Users\\maddi\\Downloads\\PlanetCode-Integration-and-sorting-patch-2\\PlanetCode-Integration-and-sorting-patch-2\\Original_Imagery\\20181117\\20181117_024659_0e20.tif C:\\Users\\maddi\\Downloads\\PlanetCode-Integration-and-sorting-patch-2\\PlanetCode-Integration-and-sorting-patch-2\\Original_Imagery\\20181117\\20181117_024700_0e20.tif C:\\Users\\maddi\\Downloads\\PlanetCode-Integration-and-sorting-patch-2\\PlanetCode-Integration-and-sorting-patch-2\\Original_Imagery\\20181117\\20181117_024701_0e20.tif\n",
      "0...10...20...30...40...50...60...70...80...90...100 - done.\n",
      "python C:\\Users\\maddi\\Downloads\\PlanetCode-Integration-and-sorting-patch-2\\PlanetCode-Integration-and-sorting-patch-2\\gdal_merge.py -o 20181119.tif -of gtiff C:\\Users\\maddi\\Downloads\\PlanetCode-Integration-and-sorting-patch-2\\PlanetCode-Integration-and-sorting-patch-2\\Original_Imagery\\20181119\\20181119_025022_103c.tif\n",
      "0...10...20...30...40...50...60...70...80...90...100 - done.\n"
     ]
    }
   ],
   "source": [
    "folders = []\n",
    "for r, d, f in os.walk(dp):\n",
    "    for folder in d:\n",
    "        folders.append(os.path.join(r, folder))\n",
    "\n",
    "i = 0\n",
    "for x in folders:\n",
    "    files_to_mosaic = glob.glob(folders[i] + '/*.tif')\n",
    "    files_string = \" \".join(files_to_mosaic)\n",
    "    command = \"python \" + sp + \"\\gdal_merge.py -o \"+ files_string[-33:-25] + \".tif\" + \" -of gtiff \" + files_string\n",
    "    print(command)\n",
    "    i = i + 1\n",
    "    output = subprocess.getoutput(command)\n",
    "    print(output)"
   ]
  },
  {
   "cell_type": "code",
   "execution_count": 30,
   "metadata": {},
   "outputs": [],
   "source": [
    "os.mkdir('Merged_Tifs')"
   ]
  },
  {
   "cell_type": "code",
   "execution_count": 31,
   "metadata": {},
   "outputs": [],
   "source": [
    "sp2 = os.getcwd()\n",
    "sf2 = os.listdir(sp2)\n",
    "dp2 = sp2 + ('\\\\Merged_Tifs')\n",
    "for file in sf2:\n",
    "    if file.endswith('.tif'):\n",
    "        shutil.move(os.path.join(sp2,file), os.path.join(dp2, file))"
   ]
  },
  {
   "cell_type": "code",
   "execution_count": 32,
   "metadata": {},
   "outputs": [],
   "source": [
    "os.chdir(sp2 + '\\\\Merged_Tifs')"
   ]
  },
  {
   "cell_type": "code",
   "execution_count": 78,
   "metadata": {},
   "outputs": [],
   "source": [
    "files = []\n",
    "for r, d, f in os.walk(dp2):\n",
    "    for file in f:\n",
    "        files.append(os.path.join(r, file))\n",
    "timeavg = []       \n",
    "ndviavg = []\n",
    "i = 0\n",
    "for x in files:\n",
    "    with rasterio.open(files[i]) as src:\n",
    "            band_red = src.read(3)\n",
    "    with rasterio.open(files[i]) as src:\n",
    "            band_nir = src.read(4)\n",
    "            \n",
    "    np.seterr(divide='ignore', invalid='ignore')\n",
    "    ndvi = ((band_nir.astype(float) - band_red.astype(float)) / (band_nir + band_red))\n",
    "    \n",
    "    \n",
    "    kwargs = src.meta\n",
    "    kwargs.update(\n",
    "    dtype = rasterio.float32,\n",
    "    count = 1)\n",
    "    with rasterio.open('ndvi_' + f[i], 'w', **kwargs) as dst:\n",
    "        dst.write_band(1, ndvi.astype(rasterio.float32))\n",
    "        \n",
    "    ndvi2 = np.ma.masked_where(ndvi < 0., ndvi)\n",
    "    \n",
    "    fig2 = plt.figure(figsize=(10,10))\n",
    "    ax = fig2.add_subplot(111)\n",
    "    \n",
    "    plt.title(f[i] + \" NDVI Histogram\", fontsize=18, fontweight='bold')\n",
    "    plt.xlabel(\"NDVI values\", fontsize=14)\n",
    "    plt.ylabel(\"# pixels\", fontsize=14)\n",
    "    \n",
    "    b = ndvi2[~np.isnan(ndvi2)]\n",
    "    numBins = 20\n",
    "    ax.hist(b,numBins,color='blue',alpha=0.8)\n",
    "    \n",
    "    fig2.savefig(\"ndvi_\" + f[i][0:8] + \"_histogram.png\", dpi=200, bbox_inches='tight', pad_inches=0.7)\n",
    "\n",
    "    \n",
    "    ndvi_adjusted = ndvi * (-255.0)\n",
    "    masked_ndvi_adjusted = np.ma.array(ndvi_adjusted, mask=np.isnan(ndvi_adjusted))\n",
    "    cmap = plt.cm.RdYlGn\n",
    "    cmap.set_bad(color = 'white',alpha = 0.0)\n",
    "    img = masked_ndvi_adjusted.astype(np.uint8)\n",
    "    plt.imsave(\"ndvi_\" + f[i][0:8] + \"_colormap.tiff\", img, cmap=cmap)\n",
    "    plt.close()\n",
    "    \n",
    "    avg = np.average(b)\n",
    "    ndviavg.append(avg)\n",
    "    time = f[i][0:8]\n",
    "    timeavg.append(time)\n",
    " \n",
    "    i = i + 1\n",
    "    \n",
    "fig3 = plt.figure(figsize=(10,10))\n",
    "ax2 = fig3.add_subplot(111)\n",
    "ax2.set_ylim([0, 1])\n",
    "plt.plot(timeavg, ndviavg, color = 'blue', linewidth = 4)\n",
    "plt.axhline(y=0.3, color='r', linestyle='-', linewidth = 3, label = 'Below: Unhealthy')\n",
    "plt.axhline(y=0.6, color='y', linestyle='-', linewidth = 3, label = 'Below: Somewhat Healthy')\n",
    "plt.axhline(y=0.7, color='g', linestyle='-', linewidth = 3, label = 'Above: Healthy')\n",
    "plt.legend()\n",
    "plt.title(\"Average NDVI Over Time\", fontsize=18, fontweight='bold')\n",
    "plt.xlabel(\"Start Date & End Date\", fontsize=14)\n",
    "plt.ylabel(\"Average NDVI\", fontsize=14)\n",
    "fig3.savefig(\"AverageNDVI_OverTime.png\", dpi=200, bbox_inches='tight', pad_inches=0.7)\n",
    "plt.close()"
   ]
  },
  {
   "cell_type": "code",
   "execution_count": 79,
   "metadata": {},
   "outputs": [],
   "source": [
    "sp3 = os.getcwd()\n",
    "sf3 = os.listdir(sp3)\n",
    "\n",
    "for file in sf3:\n",
    "    if file.startswith('ndvi'):\n",
    "        shutil.move(os.path.join(sp3,file), os.path.join(sp2,file))"
   ]
  },
  {
   "cell_type": "code",
   "execution_count": 80,
   "metadata": {},
   "outputs": [
    {
     "ename": "FileExistsError",
     "evalue": "[WinError 183] Cannot create a file when that file already exists: 'Vegetation_Indices'",
     "output_type": "error",
     "traceback": [
      "\u001b[1;31m---------------------------------------------------------------------------\u001b[0m",
      "\u001b[1;31mFileExistsError\u001b[0m                           Traceback (most recent call last)",
      "\u001b[1;32m<ipython-input-80-c70b1822ba3a>\u001b[0m in \u001b[0;36m<module>\u001b[1;34m\u001b[0m\n\u001b[0;32m      1\u001b[0m \u001b[0mos\u001b[0m\u001b[1;33m.\u001b[0m\u001b[0mchdir\u001b[0m\u001b[1;33m(\u001b[0m\u001b[0msp2\u001b[0m\u001b[1;33m)\u001b[0m\u001b[1;33m\u001b[0m\u001b[1;33m\u001b[0m\u001b[0m\n\u001b[1;32m----> 2\u001b[1;33m \u001b[0mos\u001b[0m\u001b[1;33m.\u001b[0m\u001b[0mmkdir\u001b[0m\u001b[1;33m(\u001b[0m\u001b[1;34m'Vegetation_Indices'\u001b[0m\u001b[1;33m)\u001b[0m\u001b[1;33m\u001b[0m\u001b[1;33m\u001b[0m\u001b[0m\n\u001b[0m",
      "\u001b[1;31mFileExistsError\u001b[0m: [WinError 183] Cannot create a file when that file already exists: 'Vegetation_Indices'"
     ]
    }
   ],
   "source": [
    "os.chdir(sp2)\n",
    "os.mkdir('Vegetation_Indices')"
   ]
  },
  {
   "cell_type": "code",
   "execution_count": 81,
   "metadata": {},
   "outputs": [],
   "source": [
    "sp4 = os.getcwd()\n",
    "sf4 = os.listdir(sp4)\n",
    "dp4 = sp2 + '\\\\Vegetation_Indices'\n",
    "\n",
    "for file in sf3:\n",
    "    if file.startswith('ndvi'):\n",
    "        shutil.move(os.path.join(sp4,file), os.path.join(dp4,file))"
   ]
  },
  {
   "cell_type": "code",
   "execution_count": 82,
   "metadata": {},
   "outputs": [],
   "source": [
    "sp3 = os.getcwd()\n",
    "sf3 = os.listdir(sp3)\n",
    "\n",
    "for file in sf3:\n",
    "    if file.startswith('Ave'):\n",
    "        shutil.move(os.path.join(sp3,file), os.path.join(sp2,file))"
   ]
  },
  {
   "cell_type": "code",
   "execution_count": 83,
   "metadata": {},
   "outputs": [
    {
     "ename": "FileExistsError",
     "evalue": "[WinError 183] Cannot create a file when that file already exists: 'Average_NDVI'",
     "output_type": "error",
     "traceback": [
      "\u001b[1;31m---------------------------------------------------------------------------\u001b[0m",
      "\u001b[1;31mFileExistsError\u001b[0m                           Traceback (most recent call last)",
      "\u001b[1;32m<ipython-input-83-ffd512c16625>\u001b[0m in \u001b[0;36m<module>\u001b[1;34m\u001b[0m\n\u001b[0;32m      1\u001b[0m \u001b[0mos\u001b[0m\u001b[1;33m.\u001b[0m\u001b[0mchdir\u001b[0m\u001b[1;33m(\u001b[0m\u001b[0msp2\u001b[0m\u001b[1;33m)\u001b[0m\u001b[1;33m\u001b[0m\u001b[1;33m\u001b[0m\u001b[0m\n\u001b[1;32m----> 2\u001b[1;33m \u001b[0mos\u001b[0m\u001b[1;33m.\u001b[0m\u001b[0mmkdir\u001b[0m\u001b[1;33m(\u001b[0m\u001b[1;34m'Average_NDVI'\u001b[0m\u001b[1;33m)\u001b[0m\u001b[1;33m\u001b[0m\u001b[1;33m\u001b[0m\u001b[0m\n\u001b[0m",
      "\u001b[1;31mFileExistsError\u001b[0m: [WinError 183] Cannot create a file when that file already exists: 'Average_NDVI'"
     ]
    }
   ],
   "source": [
    "os.chdir(sp2)\n",
    "os.mkdir('Average_NDVI')"
   ]
  },
  {
   "cell_type": "code",
   "execution_count": 84,
   "metadata": {},
   "outputs": [
    {
     "ename": "Error",
     "evalue": "Cannot move a directory 'C:\\Users\\maddi\\Downloads\\PlanetCode-Integration-and-sorting-patch-2\\PlanetCode-Integration-and-sorting-patch-2\\Average_NDVI' into itself 'C:\\Users\\maddi\\Downloads\\PlanetCode-Integration-and-sorting-patch-2\\PlanetCode-Integration-and-sorting-patch-2\\Average_NDVI\\Average_NDVI'.",
     "output_type": "error",
     "traceback": [
      "\u001b[1;31m---------------------------------------------------------------------------\u001b[0m",
      "\u001b[1;31mPermissionError\u001b[0m                           Traceback (most recent call last)",
      "\u001b[1;32m~\\Anaconda3\\lib\\shutil.py\u001b[0m in \u001b[0;36mmove\u001b[1;34m(src, dst, copy_function)\u001b[0m\n\u001b[0;32m    565\u001b[0m     \u001b[1;32mtry\u001b[0m\u001b[1;33m:\u001b[0m\u001b[1;33m\u001b[0m\u001b[1;33m\u001b[0m\u001b[0m\n\u001b[1;32m--> 566\u001b[1;33m         \u001b[0mos\u001b[0m\u001b[1;33m.\u001b[0m\u001b[0mrename\u001b[0m\u001b[1;33m(\u001b[0m\u001b[0msrc\u001b[0m\u001b[1;33m,\u001b[0m \u001b[0mreal_dst\u001b[0m\u001b[1;33m)\u001b[0m\u001b[1;33m\u001b[0m\u001b[1;33m\u001b[0m\u001b[0m\n\u001b[0m\u001b[0;32m    567\u001b[0m     \u001b[1;32mexcept\u001b[0m \u001b[0mOSError\u001b[0m\u001b[1;33m:\u001b[0m\u001b[1;33m\u001b[0m\u001b[1;33m\u001b[0m\u001b[0m\n",
      "\u001b[1;31mPermissionError\u001b[0m: [WinError 32] The process cannot access the file because it is being used by another process: 'C:\\\\Users\\\\maddi\\\\Downloads\\\\PlanetCode-Integration-and-sorting-patch-2\\\\PlanetCode-Integration-and-sorting-patch-2\\\\Average_NDVI' -> 'C:\\\\Users\\\\maddi\\\\Downloads\\\\PlanetCode-Integration-and-sorting-patch-2\\\\PlanetCode-Integration-and-sorting-patch-2\\\\Average_NDVI\\\\Average_NDVI'",
      "\nDuring handling of the above exception, another exception occurred:\n",
      "\u001b[1;31mError\u001b[0m                                     Traceback (most recent call last)",
      "\u001b[1;32m<ipython-input-84-fdbb531e17be>\u001b[0m in \u001b[0;36m<module>\u001b[1;34m\u001b[0m\n\u001b[0;32m      5\u001b[0m \u001b[1;32mfor\u001b[0m \u001b[0mfile\u001b[0m \u001b[1;32min\u001b[0m \u001b[0msf3\u001b[0m\u001b[1;33m:\u001b[0m\u001b[1;33m\u001b[0m\u001b[1;33m\u001b[0m\u001b[0m\n\u001b[0;32m      6\u001b[0m     \u001b[1;32mif\u001b[0m \u001b[0mfile\u001b[0m\u001b[1;33m.\u001b[0m\u001b[0mstartswith\u001b[0m\u001b[1;33m(\u001b[0m\u001b[1;34m'Ave'\u001b[0m\u001b[1;33m)\u001b[0m\u001b[1;33m:\u001b[0m\u001b[1;33m\u001b[0m\u001b[1;33m\u001b[0m\u001b[0m\n\u001b[1;32m----> 7\u001b[1;33m         \u001b[0mshutil\u001b[0m\u001b[1;33m.\u001b[0m\u001b[0mmove\u001b[0m\u001b[1;33m(\u001b[0m\u001b[0mos\u001b[0m\u001b[1;33m.\u001b[0m\u001b[0mpath\u001b[0m\u001b[1;33m.\u001b[0m\u001b[0mjoin\u001b[0m\u001b[1;33m(\u001b[0m\u001b[0msp4\u001b[0m\u001b[1;33m,\u001b[0m\u001b[0mfile\u001b[0m\u001b[1;33m)\u001b[0m\u001b[1;33m,\u001b[0m \u001b[0mos\u001b[0m\u001b[1;33m.\u001b[0m\u001b[0mpath\u001b[0m\u001b[1;33m.\u001b[0m\u001b[0mjoin\u001b[0m\u001b[1;33m(\u001b[0m\u001b[0mdp4\u001b[0m\u001b[1;33m,\u001b[0m\u001b[0mfile\u001b[0m\u001b[1;33m)\u001b[0m\u001b[1;33m)\u001b[0m\u001b[1;33m\u001b[0m\u001b[1;33m\u001b[0m\u001b[0m\n\u001b[0m",
      "\u001b[1;32m~\\Anaconda3\\lib\\shutil.py\u001b[0m in \u001b[0;36mmove\u001b[1;34m(src, dst, copy_function)\u001b[0m\n\u001b[0;32m    573\u001b[0m             \u001b[1;32mif\u001b[0m \u001b[0m_destinsrc\u001b[0m\u001b[1;33m(\u001b[0m\u001b[0msrc\u001b[0m\u001b[1;33m,\u001b[0m \u001b[0mdst\u001b[0m\u001b[1;33m)\u001b[0m\u001b[1;33m:\u001b[0m\u001b[1;33m\u001b[0m\u001b[1;33m\u001b[0m\u001b[0m\n\u001b[0;32m    574\u001b[0m                 raise Error(\"Cannot move a directory '%s' into itself\"\n\u001b[1;32m--> 575\u001b[1;33m                             \" '%s'.\" % (src, dst))\n\u001b[0m\u001b[0;32m    576\u001b[0m             copytree(src, real_dst, copy_function=copy_function,\n\u001b[0;32m    577\u001b[0m                      symlinks=True)\n",
      "\u001b[1;31mError\u001b[0m: Cannot move a directory 'C:\\Users\\maddi\\Downloads\\PlanetCode-Integration-and-sorting-patch-2\\PlanetCode-Integration-and-sorting-patch-2\\Average_NDVI' into itself 'C:\\Users\\maddi\\Downloads\\PlanetCode-Integration-and-sorting-patch-2\\PlanetCode-Integration-and-sorting-patch-2\\Average_NDVI\\Average_NDVI'."
     ]
    }
   ],
   "source": [
    "sp4 = os.getcwd()\n",
    "sf4 = os.listdir(sp4)\n",
    "dp4 = sp2 + '\\\\Average_NDVI'\n",
    "\n",
    "for file in sf3:\n",
    "    if file.startswith('Ave'):\n",
    "        shutil.move(os.path.join(sp4,file), os.path.join(dp4,file))"
   ]
  },
  {
   "cell_type": "code",
   "execution_count": null,
   "metadata": {},
   "outputs": [],
   "source": []
  }
 ],
 "metadata": {
  "kernelspec": {
   "display_name": "Python 3",
   "language": "python",
   "name": "python3"
  },
  "language_info": {
   "codemirror_mode": {
    "name": "ipython",
    "version": 3
   },
   "file_extension": ".py",
   "mimetype": "text/x-python",
   "name": "python",
   "nbconvert_exporter": "python",
   "pygments_lexer": "ipython3",
   "version": "3.7.4"
  }
 },
 "nbformat": 4,
 "nbformat_minor": 4
}
