{
 "cells": [
  {
   "cell_type": "code",
   "execution_count": 27,
   "metadata": {},
   "outputs": [],
   "source": [
    "from planet import api\n",
    "from planet.api import filters\n",
    "from sys import stdout\n",
    "import urllib.request\n",
    "import urllib.parse\n",
    "import re\n",
    "import shutil\n",
    "from requests.auth import HTTPBasicAuth\n",
    "import os\n",
    "import time\n",
    "import requests\n",
    "import cv2\n",
    "import glob\n",
    "import subprocess\n",
    "import rasterio\n",
    "import numpy as np\n",
    "import os\n",
    "import matplotlib.pyplot as plt\n",
    "import matplotlib.colors as colors\n",
    "import wikipedia\n",
    "import pytube\n",
    "from pytube import YouTube as yt\n",
    "from xml.dom import minidom\n",
    "import sys"
   ]
  },
  {
   "cell_type": "code",
   "execution_count": 28,
   "metadata": {},
   "outputs": [
    {
     "name": "stdout",
     "output_type": "stream",
     "text": [
      "Please input your volcano of interest: Anak Krakatoa\n"
     ]
    }
   ],
   "source": [
    "title = input(\"Please input your volcano of interest: \")\n",
    "page = wikipedia.WikipediaPage(title)\n",
    "\n",
    "#Written by Collin Engelson"
   ]
  },
  {
   "cell_type": "code",
   "execution_count": 29,
   "metadata": {},
   "outputs": [
    {
     "name": "stdout",
     "output_type": "stream",
     "text": [
      "Wikipedia summary for your volcano of interest: \n",
      "\n",
      "Anak Krakatoa (English: Child of Krakatoa) is an island in a caldera in the Sunda Strait between the islands of Java and Sumatra in the Indonesian province of Lampung. On December 29, 1927, Anak Krakatoa emerged from the caldera formed in 1883 by the explosive volcanic eruption that destroyed the island of Krakatoa. There has been sporadic eruptive activity at the site since the late 20th century, culminating with a large underwater collapse of the volcano which caused a deadly tsunami in December 2018, followed by subsequent activity in 2019 and an eruption in April 2020. Due to its young age, the island is one of several in the area which are of considerable interest to volcanologists, and the subject of extensive study.\n"
     ]
    }
   ],
   "source": [
    "print(\"Wikipedia summary for your volcano of interest: \")\n",
    "print(\"\")\n",
    "print(wikipedia.summary(title))\n",
    "\n",
    "#Written by Collin Engelson"
   ]
  },
  {
   "cell_type": "code",
   "execution_count": 30,
   "metadata": {},
   "outputs": [
    {
     "name": "stdout",
     "output_type": "stream",
     "text": [
      "References from the Wikipedia article of your volcano of interest: \n",
      "\n",
      "[ 1 ] : http://in.reuters.com/article/worldNews/idINIndia-30436520071111?sp=true\n",
      "[ 2 ] : http://portal.vsi.esdm.go.id/joomla/\n",
      "[ 3 ] : http://doi.org/10.1144%2FSP361.7\n",
      "[ 4 ] : http://sp.lyellcollection.org/content/361/1/79\n",
      "[ 5 ] : http://tools.wmflabs.org/geohack/geohack.php?pagename=Anak_Krakatoa&params=6.102_S_105.423_E_type:mountain_scale:100000\n",
      "[ 6 ] : http://www.worldcat.org/issn/0305-8719\n",
      "[ 7 ] : https://www.bbc.com/news/science-environment-46707731\n",
      "[ 8 ] : https://www.nbcnews.com/news/world/indonesia-s-anak-krakatau-volcano-triggered-deadly-tsunami-now-quarter-n952906\n",
      "[ 9 ] : https://www.rt.com/news/441477-tour-boat-fire-bombed-volcano/\n",
      "[ 10 ] : https://www.thejakartapost.com/news/2020/04/11/anak-krakatau-erupts-loud-rumble-heard-in-virus-stricken-greater-jakarta.html\n",
      "[ 11 ] : https://www.volcanodiscovery.com/krakatau/news/80657/Krakatau-volcano-Indonesia-activity-update-and-field-report-increasing-unrest.html\n",
      "[ 12 ] : https://www.volcanodiscovery.com/krakatoa/2018/dec/eruption-tsunami/updates.html\n",
      "[ 13 ] : https://volcano.si.edu/volcano.cfm?vn=262000\n",
      "[ 14 ] : https://www.thestar.com.my/news/regional/2018/12/31/number-of-injured-in-indonesia-tsunami-surges-to-over-14000/\n",
      "[ 15 ] : https://www.newshub.co.nz/home/world/2020/04/massive-eruption-at-indonesian-volcano-krakatoa-report.html\n",
      "[ 16 ] : https://web.archive.org/web/20090506120112/http://portal.vsi.esdm.go.id/joomla/\n",
      "[ 17 ] : https://viaf.org/viaf/315128839\n",
      "[ 18 ] : https://www.wikidata.org/wiki/Q2205302\n",
      "[ 19 ] : https://www.bbc.co.uk/news/science-environment-46825354\n",
      "[ 20 ] : https://www.telegraph.co.uk/news/2018/12/22/indonesia-tsunami-least-20-dead-165-injured-waves-hit-beaches/\n"
     ]
    }
   ],
   "source": [
    "print(\"References from the Wikipedia article of your volcano of interest: \")\n",
    "print(\"\")\n",
    "\n",
    "References_Wikipedia = page.references\n",
    "\n",
    "len(References_Wikipedia)\n",
    "x = 1\n",
    "\n",
    "for i in References_Wikipedia:\n",
    "    print('[',x,'] :',i)\n",
    "    x = x + 1\n",
    "    \n",
    "#Written by Aidan McGirr and Collin Engelson"
   ]
  },
  {
   "cell_type": "code",
   "execution_count": 31,
   "metadata": {},
   "outputs": [
    {
     "name": "stdout",
     "output_type": "stream",
     "text": [
      "Related Wikipedia articles to your volcano of interest: \n",
      "\n",
      "[ 1 ] : Krakatoa archipelago - https://en.wikipedia.org/wiki/Krakatoa_archipelago\n",
      "[ 2 ] : Krakatoa - https://en.wikipedia.org/wiki/Krakatoa\n",
      "[ 3 ] : Anak Krakatoa - https://en.wikipedia.org/wiki/Anak_Krakatoa\n",
      "[ 4 ] : 1883 eruption of Krakatoa - https://en.wikipedia.org/wiki/1883_eruption_of_Krakatoa\n",
      "[ 5 ] : 2018 Sunda Strait tsunami - https://en.wikipedia.org/wiki/2018_Sunda_Strait_tsunami\n"
     ]
    }
   ],
   "source": [
    "print(\"Related Wikipedia articles to your volcano of interest: \")\n",
    "print(\"\")\n",
    "\n",
    "Related_Wikipedia = wikipedia.geosearch(page.coordinates[0], page.coordinates[1])\n",
    "\n",
    "len(Related_Wikipedia)\n",
    "x = 1\n",
    "\n",
    "for i in Related_Wikipedia:\n",
    "    print ('[',x,'] :', i, '-', wikipedia.page(i).url)\n",
    "    x = x + 1\n",
    "    \n",
    "#Written by Aidan McGirr and Collin Engeslon"
   ]
  },
  {
   "cell_type": "code",
   "execution_count": 32,
   "metadata": {},
   "outputs": [
    {
     "name": "stdout",
     "output_type": "stream",
     "text": [
      "Top 5 YouTube videos related to your volcano of interest: \n",
      "\n",
      "[ 1 ] : Anak Krakatau Volcano Incredible Drone Footage After Collapse & Major Eruption - http://www.youtube.com/watch?v=I-3A4GR-VnU\n",
      "[ 2 ] : The New Anak Krakatoa Volcano - http://www.youtube.com/watch?v=FFiO_qbfhFg\n",
      "[ 3 ] : Krakatoa Volcano Eruption - 2018 & April, 2020 - http://www.youtube.com/watch?v=2GECbIa3Gy4\n",
      "[ 4 ] : Anak Krakatau Volcano Eruption & Collapsed in Indonesia (Dec 22-23, 2018) - http://www.youtube.com/watch?v=edFfWsuyqkI\n",
      "[ 5 ] : Incredible Krakatoa volcano eruptions at night | anak krakatau 2018 - http://www.youtube.com/watch?v=NGcbNn4Vk1w\n"
     ]
    }
   ],
   "source": [
    "query_string = urllib.parse.urlencode({\"search_query\" : title})\n",
    "html_content = urllib.request.urlopen(\"http://www.youtube.com/results?\" + query_string)\n",
    "search_results = re.findall(r'href=\\\"\\/watch\\?v=(.{11})', html_content.read().decode())\n",
    "\n",
    "video1 = yt('http://www.youtube.com/watch?v=' + search_results[0])\n",
    "video1.title\n",
    "\n",
    "video2 = yt('http://www.youtube.com/watch?v=' + search_results[2])\n",
    "video2.title\n",
    "\n",
    "video3 = yt('http://www.youtube.com/watch?v=' + search_results[4])\n",
    "video3.title\n",
    "\n",
    "video4 = yt('http://www.youtube.com/watch?v=' + search_results[6])\n",
    "video4.title\n",
    "\n",
    "video5 = yt('http://www.youtube.com/watch?v=' + search_results[8])\n",
    "video5.title\n",
    "\n",
    "print(\"Top 5 YouTube videos related to your volcano of interest: \")\n",
    "print(\"\")\n",
    "print(\"[ 1 ] : \" + video1.title + \" - \" + \"http://www.youtube.com/watch?v=\" + search_results[0])\n",
    "print(\"[ 2 ] : \" + video2.title + \" - \" + \"http://www.youtube.com/watch?v=\" + search_results[2])\n",
    "print(\"[ 3 ] : \" + video3.title + \" - \" + \"http://www.youtube.com/watch?v=\" + search_results[4])\n",
    "print(\"[ 4 ] : \" + video4.title + \" - \" + \"http://www.youtube.com/watch?v=\" + search_results[6])\n",
    "print(\"[ 5 ] : \" + video5.title + \" - \" + \"http://www.youtube.com/watch?v=\" + search_results[8])\n",
    "\n",
    "#Written by Aidan McGirr"
   ]
  },
  {
   "cell_type": "code",
   "execution_count": 33,
   "metadata": {},
   "outputs": [],
   "source": [
    "lat = float(page.coordinates[0])\n",
    "long = float(page.coordinates[1])\n",
    "\n",
    "#Written by Collin Engelson"
   ]
  },
  {
   "cell_type": "code",
   "execution_count": 34,
   "metadata": {},
   "outputs": [
    {
     "name": "stdout",
     "output_type": "stream",
     "text": [
      "Please input your start date (YYYY-MM-DD): 2018-12-16\n"
     ]
    },
    {
     "data": {
      "text/plain": [
       "'2018-12-16'"
      ]
     },
     "execution_count": 34,
     "metadata": {},
     "output_type": "execute_result"
    }
   ],
   "source": [
    "def sdate():\n",
    "    global start_date\n",
    "    start_date = input(\"Please input your start date (YYYY-MM-DD): \")\n",
    "    while len(start_date) == 10:\n",
    "        return start_date\n",
    "    else:\n",
    "        print('Error 002: Start date format incorrect, please try again.')\n",
    "        sdate()\n",
    "sdate()\n",
    "\n",
    "#Written by Collin Engelson"
   ]
  },
  {
   "cell_type": "code",
   "execution_count": 35,
   "metadata": {},
   "outputs": [
    {
     "name": "stdout",
     "output_type": "stream",
     "text": [
      "Please input your end date (YYYY-MM-DD): 2018-12-19\n"
     ]
    },
    {
     "data": {
      "text/plain": [
       "'2018-12-19'"
      ]
     },
     "execution_count": 35,
     "metadata": {},
     "output_type": "execute_result"
    }
   ],
   "source": [
    "def edate():\n",
    "    global end_date\n",
    "    end_date = input(\"Please input your end date (YYYY-MM-DD): \")\n",
    "    while len(end_date) == 10:\n",
    "        return end_date\n",
    "    else:\n",
    "        print('Error 003: End date format incorrect, please try again.')\n",
    "        edate()\n",
    "edate()\n",
    "\n",
    "#Written by Collin Engelson"
   ]
  },
  {
   "cell_type": "code",
   "execution_count": 36,
   "metadata": {},
   "outputs": [
    {
     "name": "stdout",
     "output_type": "stream",
     "text": [
      "Please input the percent of maximum cloud cover you want to allow in each image as an integer between 0 and 1 (e.g. 20% = 0.2): 0.2\n"
     ]
    },
    {
     "data": {
      "text/plain": [
       "0.2"
      ]
     },
     "execution_count": 36,
     "metadata": {},
     "output_type": "execute_result"
    }
   ],
   "source": [
    "def ccover():\n",
    "    global cloud_cover\n",
    "    cloud_cover = input(\"Please input the percent of maximum cloud cover you want to allow in each image as an integer between 0 and 1 (e.g. 20% = 0.2): \")\n",
    "    cloud_cover = float(cloud_cover)\n",
    "    if cloud_cover > 1.0:\n",
    "        print('Error 004: Cloud cover can not be greater than 1.0')\n",
    "        ccover()\n",
    "    elif cloud_cover < 0.0:\n",
    "        print('Error 005: Cloud cover can not be less than 0.0')\n",
    "        ccover()\n",
    "    else:\n",
    "        return cloud_cover\n",
    "ccover()\n",
    "\n",
    "#Written by Collin Engelson"
   ]
  },
  {
   "cell_type": "code",
   "execution_count": null,
   "metadata": {},
   "outputs": [],
   "source": [
    "api_key = input(\"Please input you Planet API key: \") \n",
    "\n",
    "#Written by Collin Engelson"
   ]
  },
  {
   "cell_type": "code",
   "execution_count": 104,
   "metadata": {},
   "outputs": [],
   "source": [
    "client = api.ClientV1(api_key) \n",
    "PL_API_KEY = api_key\n",
    "\n",
    "#Written by Kenji Doi"
   ]
  },
  {
   "cell_type": "code",
   "execution_count": 39,
   "metadata": {},
   "outputs": [],
   "source": [
    "geo_json_geometry = {\n",
    "  \"type\": \"Polygon\",\n",
    "        \"coordinates\": [\n",
    "          [\n",
    "            [\n",
    "              long - 0.07,\n",
    "              lat + 0.07\n",
    "            ],\n",
    "            [\n",
    "              long + 0.07,\n",
    "              lat + 0.07\n",
    "            ],\n",
    "            [\n",
    "              long + 0.07,\n",
    "              lat - 0.07\n",
    "            ],\n",
    "            [\n",
    "              long - 0.07,\n",
    "              lat - 0.07\n",
    "            ],\n",
    "            [\n",
    "              long - 0.07,\n",
    "              lat + 0.07\n",
    "            ]\n",
    "          ]\n",
    "        ]\n",
    "      }\n",
    "\n",
    "#Written by Kenji Doi and Collin Engelson"
   ]
  },
  {
   "cell_type": "code",
   "execution_count": 40,
   "metadata": {},
   "outputs": [],
   "source": [
    "geometry_filter = {\n",
    "    \"type\": \"GeometryFilter\",\n",
    "    \"field_name\": \"geometry\",\n",
    "    \"config\": geo_json_geometry\n",
    "}\n",
    "\n",
    "#Written by Kenji Doi"
   ]
  },
  {
   "cell_type": "code",
   "execution_count": 41,
   "metadata": {},
   "outputs": [],
   "source": [
    "date_range_filter = {\n",
    "    \"type\": \"DateRangeFilter\",\n",
    "    \"field_name\": \"acquired\",\n",
    "    \"config\": {\n",
    "        \"gte\": start_date + \"T00:00:00.000Z\",\n",
    "        \"lte\": end_date + \"T00:00:00.000Z\"\n",
    "    }\n",
    "}\n",
    "\n",
    "#Written by Kenji Doi and Collin Engelson"
   ]
  },
  {
   "cell_type": "code",
   "execution_count": 42,
   "metadata": {},
   "outputs": [],
   "source": [
    "cloud_cover_filter = {\n",
    "    \"type\": \"RangeFilter\",\n",
    "    \"field_name\": \"cloud_cover\",\n",
    "    \"config\": {\n",
    "        \"lte\": cloud_cover,\n",
    "    }\n",
    "}\n",
    "\n",
    "#Written by Kenji Doi"
   ]
  },
  {
   "cell_type": "code",
   "execution_count": 43,
   "metadata": {},
   "outputs": [],
   "source": [
    "item_types = ['PSScene4Band']\n",
    "asset_type = 'analytic'\n",
    "\n",
    "#Written by Kenji Doi"
   ]
  },
  {
   "cell_type": "code",
   "execution_count": 44,
   "metadata": {},
   "outputs": [],
   "source": [
    "query = {\n",
    "    \"type\": \"AndFilter\",\n",
    "    \"config\": [geometry_filter, date_range_filter, cloud_cover_filter]\n",
    "}\n",
    "\n",
    "#Written by Kenji Doi"
   ]
  },
  {
   "cell_type": "code",
   "execution_count": 45,
   "metadata": {},
   "outputs": [],
   "source": [
    "request = filters.build_search_request(\n",
    "    query, item_types\n",
    ")\n",
    "\n",
    "#Written by Kenji Doi"
   ]
  },
  {
   "cell_type": "code",
   "execution_count": 46,
   "metadata": {},
   "outputs": [
    {
     "name": "stdout",
     "output_type": "stream",
     "text": [
      "id,cloud_cover,date\n"
     ]
    }
   ],
   "source": [
    "dataset = client.quick_search(request)\n",
    "\n",
    "stdout.write('id,cloud_cover,date\\n')\n",
    "\n",
    "#Written by Kenji Doi"
   ]
  },
  {
   "cell_type": "code",
   "execution_count": 47,
   "metadata": {},
   "outputs": [
    {
     "name": "stdout",
     "output_type": "stream",
     "text": [
      "20181217_025142_101e,0.01,2018-12-17T02:51:42.296592Z\n",
      "20181217_025144_101e,0.01,2018-12-17T02:51:44.363859Z\n",
      "20181217_025143_101e,0.01,2018-12-17T02:51:43.330487Z\n",
      "20181218_031148_0f33,0.17,2018-12-18T03:11:48.793389Z\n",
      "20181218_031147_0f33,0.08,2018-12-18T03:11:47.844952Z\n"
     ]
    }
   ],
   "source": [
    "assets = []\n",
    "for item in dataset.items_iter(limit=None):\n",
    "    props = item['properties']\n",
    "    assets.append(stdout.write('{0},{cloud_cover},{acquired}\\n'.format(item['id'], **props)))\n",
    "    \n",
    "#Written by Kenji Doi"
   ]
  },
  {
   "cell_type": "code",
   "execution_count": 48,
   "metadata": {},
   "outputs": [],
   "source": [
    "if not assets:\n",
    "    print('Error 001: No assets available based on your current parameters. Please refine your search parameters and try again.')\n",
    "    sys.exit()\n",
    "    \n",
    "#Written by Collin Engelson"
   ]
  },
  {
   "cell_type": "code",
   "execution_count": 49,
   "metadata": {},
   "outputs": [
    {
     "name": "stdout",
     "output_type": "stream",
     "text": [
      "PSScene4Band\n",
      "20181217_025142_101e\n",
      "204\n",
      "20181217_025144_101e\n",
      "204\n",
      "20181217_025143_101e\n",
      "204\n",
      "20181218_031148_0f33\n",
      "204\n",
      "20181218_031147_0f33\n",
      "204\n"
     ]
    }
   ],
   "source": [
    "for i in item_types:\n",
    "    request = api.filters.build_search_request(query, [i])  # ,name = None, interval= 'day')\n",
    "    dataset = client.quick_search(request)\n",
    "    print(i)\n",
    "    for item in dataset.items_iter(limit=100):\n",
    "        print(item['id'])\n",
    "        session = requests.Session()\n",
    "        session.auth = (PL_API_KEY, '')\n",
    "        results = \\\n",
    "            session.get(\n",
    "                (\"https://api.planet.com/data/v1/item-types/\" +\n",
    "                 \"{}/items/{}/assets/\").format(i, item['id']))\n",
    "       \n",
    "        item_activation_url = results.json()[asset_type][\"_links\"][\"activate\"]\n",
    "       \n",
    "        response = session.post(item_activation_url)\n",
    "        print(response.status_code)\n",
    "        while response.status_code != 204:\n",
    "            time.sleep(15)\n",
    "            response = session.post(item_activation_url)\n",
    "            response.status_code = response.status_code\n",
    "            print(response.status_code)\n",
    "        \n",
    "        item_url = 'https://api.planet.com/data/v1/item-types/{}/items/{}/assets'.format(i, item['id'])\n",
    "        result = requests.get(item_url, auth=HTTPBasicAuth(PL_API_KEY, ''))\n",
    "        download_url = result.json()[asset_type]['location']  # KeyError: 'location'\n",
    "        output_file = item['id'] + '.tif'\n",
    "\n",
    "        with urllib.request.urlopen(download_url) as response, open(output_file, 'wb') as out_file:\n",
    "            shutil.copyfileobj(response, out_file)\n",
    "            \n",
    "#Written by Kenji Doi"
   ]
  },
  {
   "cell_type": "code",
   "execution_count": 50,
   "metadata": {},
   "outputs": [],
   "source": [
    "item_types = ['PSScene4Band']\n",
    "asset_type = 'analytic_xml'\n",
    "\n",
    "#Written by Madeline Marquardt and Collin Engelson"
   ]
  },
  {
   "cell_type": "code",
   "execution_count": 51,
   "metadata": {},
   "outputs": [],
   "source": [
    "query = {\n",
    "    \"type\": \"AndFilter\",\n",
    "    \"config\": [geometry_filter, date_range_filter, cloud_cover_filter]\n",
    "}\n",
    "\n",
    "#Written by Madeline Marquardt and Collin Engelson"
   ]
  },
  {
   "cell_type": "code",
   "execution_count": 52,
   "metadata": {},
   "outputs": [],
   "source": [
    "request = filters.build_search_request(\n",
    "    query, item_types\n",
    ")\n",
    "\n",
    "#Written by Madeline Marquardt and Collin Engelson"
   ]
  },
  {
   "cell_type": "code",
   "execution_count": 53,
   "metadata": {},
   "outputs": [
    {
     "name": "stdout",
     "output_type": "stream",
     "text": [
      "id,cloud_cover,date\n"
     ]
    }
   ],
   "source": [
    "dataset = client.quick_search(request)\n",
    "\n",
    "stdout.write('id,cloud_cover,date\\n')\n",
    "\n",
    "#Written by Madeline Marquardt and Collin Engelson"
   ]
  },
  {
   "cell_type": "code",
   "execution_count": 54,
   "metadata": {},
   "outputs": [
    {
     "name": "stdout",
     "output_type": "stream",
     "text": [
      "20181217_025142_101e,0.01,2018-12-17T02:51:42.296592Z\n",
      "20181217_025144_101e,0.01,2018-12-17T02:51:44.363859Z\n",
      "20181217_025143_101e,0.01,2018-12-17T02:51:43.330487Z\n",
      "20181218_031148_0f33,0.17,2018-12-18T03:11:48.793389Z\n",
      "20181218_031147_0f33,0.08,2018-12-18T03:11:47.844952Z\n"
     ]
    }
   ],
   "source": [
    "for item in dataset.items_iter(limit=None):\n",
    "    props = item['properties']\n",
    "    stdout.write('{0},{cloud_cover},{acquired}\\n'.format(item['id'], **props))\n",
    "    \n",
    "#Written by Madeline Marquardt and Collin Engelson"
   ]
  },
  {
   "cell_type": "code",
   "execution_count": 55,
   "metadata": {},
   "outputs": [
    {
     "name": "stdout",
     "output_type": "stream",
     "text": [
      "PSScene4Band\n",
      "20181217_025142_101e\n",
      "204\n",
      "20181217_025144_101e\n",
      "204\n",
      "20181217_025143_101e\n",
      "204\n",
      "20181218_031148_0f33\n",
      "204\n",
      "20181218_031147_0f33\n",
      "204\n"
     ]
    }
   ],
   "source": [
    "for i in item_types:\n",
    "    request = api.filters.build_search_request(query, [i])  # ,name = None, interval= 'day')\n",
    "    dataset = client.quick_search(request)\n",
    "    print(i)\n",
    "    for item in dataset.items_iter(limit=50):\n",
    "        print(item['id'])\n",
    "        session = requests.Session()\n",
    "        session.auth = (PL_API_KEY, '')\n",
    "        results = \\\n",
    "            session.get(\n",
    "                (\"https://api.planet.com/data/v1/item-types/\" +\n",
    "                 \"{}/items/{}/assets/\").format(i, item['id']))\n",
    "       \n",
    "        item_activation_url = results.json()[asset_type][\"_links\"][\"activate\"]\n",
    "       \n",
    "        response = session.post(item_activation_url)\n",
    "        print(response.status_code)\n",
    "        while response.status_code != 204:\n",
    "            time.sleep(15)\n",
    "            response = session.post(item_activation_url)\n",
    "            response.status_code = response.status_code\n",
    "            print(response.status_code)\n",
    "        \n",
    "        item_url = 'https://api.planet.com/data/v1/item-types/{}/items/{}/assets'.format(i, item['id'])\n",
    "        result = requests.get(item_url, auth=HTTPBasicAuth(PL_API_KEY, ''))\n",
    "        download_url = result.json()[asset_type]['location']  # KeyError: 'location'\n",
    "        output_file = item['id'] + '.xml'\n",
    "\n",
    "        with urllib.request.urlopen(download_url) as response, open(output_file, 'wb') as out_file:\n",
    "            shutil.copyfileobj(response, out_file)\n",
    "            \n",
    "#Written by Madeline Marquardt and Collin Engelson"
   ]
  },
  {
   "cell_type": "code",
   "execution_count": 56,
   "metadata": {},
   "outputs": [],
   "source": [
    "tifs = []\n",
    "xmls = []\n",
    "\n",
    "for r, d, f in os.walk(os.getcwd()):\n",
    "    for file in f:\n",
    "        if file.endswith('.tif'):\n",
    "            tifs.append(os.path.join(r, file))\n",
    "        if file.endswith('.xml'):\n",
    "            xmls.append(os.path.join(r, file))\n",
    "            \n",
    "i = 0\n",
    "        \n",
    "for x in xmls:\n",
    "    with rasterio.open(tifs[i][-24:]) as src:\n",
    "            band_blue = src.read(1, masked = True)    \n",
    "    with rasterio.open(tifs[i][-24:]) as src:\n",
    "            band_green = src.read(2, masked = True)\n",
    "    with rasterio.open(tifs[i][-24:]) as src:\n",
    "            band_red = src.read(3, masked = True)\n",
    "    with rasterio.open(tifs[i][-24:]) as src:\n",
    "            band_nir = src.read(4, masked = True)\n",
    "    xmldoc = minidom.parse(xmls[i][-24:])\n",
    "    nodes = xmldoc.getElementsByTagName(\"ps:bandSpecificMetadata\")\n",
    "    \n",
    "    coeffs = {}\n",
    "    for node in nodes:\n",
    "        bn = node.getElementsByTagName(\"ps:bandNumber\")[0].firstChild.data\n",
    "        if bn in ['1', '2', '3', '4']:\n",
    "            a = int(bn)\n",
    "            value = node.getElementsByTagName('ps:reflectanceCoefficient')[0].firstChild.data\n",
    "            coeffs[a] = float(value)\n",
    "    \n",
    "    band_blue = band_blue * coeffs[1]\n",
    "    band_green = band_green * coeffs[2]\n",
    "    band_red = band_red * coeffs[3]\n",
    "    band_nir = band_nir * coeffs[4]\n",
    "    \n",
    "    np.seterr(divide='ignore', invalid='ignore')\n",
    "    ndvi = ((band_nir.astype(float) - band_red.astype(float)) / (band_nir + band_red))\n",
    "    \n",
    "    kwargs = src.meta\n",
    "    kwargs.update(\n",
    "    dtype = rasterio.float32,\n",
    "    count = 1)\n",
    "    \n",
    "    with rasterio.open('ndvi_' + tifs[i][-24:], 'w', **kwargs) as dst:\n",
    "        dst.write_band(1, ndvi.astype(rasterio.float32))\n",
    "    \n",
    "        \n",
    "    i = i + 1\n",
    "    \n",
    "#Written by Madeline Marquardt and Collin Engelson"
   ]
  },
  {
   "cell_type": "code",
   "execution_count": 57,
   "metadata": {},
   "outputs": [],
   "source": [
    "os.getcwd()\n",
    "os.mkdir('Vegetation_Indices_Imagery')\n",
    "\n",
    "#Written by Madeline Marquardt and Collin Engelson"
   ]
  },
  {
   "cell_type": "code",
   "execution_count": 58,
   "metadata": {},
   "outputs": [],
   "source": [
    "sp0 = os.getcwd()\n",
    "sf0 = os.listdir(sp0)\n",
    "dp0 = sp0 + ('\\\\Vegetation_Indices_Imagery')\n",
    "for file in sf0:\n",
    "    if file.startswith(('ndvi')):\n",
    "        shutil.move(os.path.join(sp0,file), os.path.join(dp0, file))\n",
    "        \n",
    "#Written by Madeline Marquardt and Collin Engelson"
   ]
  },
  {
   "cell_type": "code",
   "execution_count": 59,
   "metadata": {},
   "outputs": [],
   "source": [
    "images = [f for f in os.listdir(dp0) if os.path.isfile(os.path.join(dp0, f))]\n",
    "\n",
    "for image in images:\n",
    "    folder_name = image.split('_')[1]\n",
    "\n",
    "    new_path = os.path.join(dp0, folder_name)\n",
    "    if not os.path.exists(new_path):\n",
    "        os.makedirs(new_path)\n",
    "\n",
    "    old_image_path = os.path.join(dp0, image)\n",
    "    new_image_path = os.path.join(new_path, image)\n",
    "    shutil.move(old_image_path, new_image_path)\n",
    "    \n",
    "#Written by Madeline Marquardt and Collin Engelson"
   ]
  },
  {
   "cell_type": "code",
   "execution_count": 60,
   "metadata": {},
   "outputs": [],
   "source": [
    "os.getcwd()\n",
    "os.mkdir('Original_Imagery')\n",
    "\n",
    "#Written by Madeline Marquardt and Collin Engelson"
   ]
  },
  {
   "cell_type": "code",
   "execution_count": 61,
   "metadata": {},
   "outputs": [],
   "source": [
    "sp = os.getcwd()\n",
    "sf = os.listdir(sp)\n",
    "dp = sp + ('\\\\Original_Imagery')\n",
    "for file in sf:\n",
    "    if file.endswith(('.tif','.xml')):\n",
    "        shutil.move(os.path.join(sp,file), os.path.join(dp, file))\n",
    "        \n",
    "#Written by Madeline Marquardt and Collin Engelson"
   ]
  },
  {
   "cell_type": "code",
   "execution_count": 62,
   "metadata": {},
   "outputs": [],
   "source": [
    "images = [f for f in os.listdir(dp) if os.path.isfile(os.path.join(dp, f))]\n",
    "\n",
    "for image in images:\n",
    "    folder_name = image.split('_')[0]\n",
    "\n",
    "    new_path = os.path.join(dp, folder_name)\n",
    "    if not os.path.exists(new_path):\n",
    "        os.makedirs(new_path)\n",
    "\n",
    "    old_image_path = os.path.join(dp, image)\n",
    "    new_image_path = os.path.join(new_path, image)\n",
    "    shutil.move(old_image_path, new_image_path)\n",
    "    \n",
    "#Written by Madeline Marquardt and Collin Engelson"
   ]
  },
  {
   "cell_type": "code",
   "execution_count": 63,
   "metadata": {},
   "outputs": [
    {
     "name": "stdout",
     "output_type": "stream",
     "text": [
      "python C:\\Users\\cengelso\\Documents\\IONS\\gdal_merge.py -o 20181217.tif -of gtiff C:\\Users\\cengelso\\Documents\\IONS\\Vegetation_Indices_Imagery\\20181217\\ndvi_20181217_025142_101e.tif C:\\Users\\cengelso\\Documents\\IONS\\Vegetation_Indices_Imagery\\20181217\\ndvi_20181217_025143_101e.tif C:\\Users\\cengelso\\Documents\\IONS\\Vegetation_Indices_Imagery\\20181217\\ndvi_20181217_025144_101e.tif\n",
      "0...10...20...30...40...50...60...70...80...90...100 - done.\n",
      "python C:\\Users\\cengelso\\Documents\\IONS\\gdal_merge.py -o 20181218.tif -of gtiff C:\\Users\\cengelso\\Documents\\IONS\\Vegetation_Indices_Imagery\\20181218\\ndvi_20181218_031147_0f33.tif C:\\Users\\cengelso\\Documents\\IONS\\Vegetation_Indices_Imagery\\20181218\\ndvi_20181218_031148_0f33.tif\n",
      "0...10...20...30...40...50...60...70...80...90...100 - done.\n"
     ]
    }
   ],
   "source": [
    "folders = []\n",
    "for r, d, f in os.walk(dp0):\n",
    "    for folder in d:\n",
    "        folders.append(os.path.join(r, folder))\n",
    "\n",
    "i = 0\n",
    "for x in folders:\n",
    "    files_to_mosaic = glob.glob(folders[i] + '/*.tif')\n",
    "    files_string = \" \".join(files_to_mosaic)\n",
    "    command = \"python \" + sp + \"\\gdal_merge.py -o \" + files_string[-24:-16] + \".tif\" + \" -of gtiff \" + files_string\n",
    "    print(command)\n",
    "    i = i + 1\n",
    "    output = subprocess.getoutput(command)\n",
    "    print(output)\n",
    "    \n",
    "#Written by Collin Engelson"
   ]
  },
  {
   "cell_type": "code",
   "execution_count": 64,
   "metadata": {},
   "outputs": [],
   "source": [
    "os.mkdir('Merged_Tifs')\n",
    "\n",
    "#Written by Madeline Marquardt and Collin Engelson"
   ]
  },
  {
   "cell_type": "code",
   "execution_count": 65,
   "metadata": {},
   "outputs": [],
   "source": [
    "sp2 = os.getcwd()\n",
    "sf2 = os.listdir(sp2)\n",
    "dp2 = sp2 + ('\\\\Merged_Tifs')\n",
    "for file in sf2:\n",
    "    if file.endswith('.tif'):\n",
    "        shutil.move(os.path.join(sp2,file), os.path.join(dp2, file))\n",
    "        \n",
    "#Written by Madeline Marquardt and Collin Engelson"
   ]
  },
  {
   "cell_type": "code",
   "execution_count": 66,
   "metadata": {},
   "outputs": [],
   "source": [
    "os.chdir(sp2 + '\\\\Merged_Tifs')\n",
    "\n",
    "#Written by Madeline Marquardt and Collin Engelson"
   ]
  },
  {
   "cell_type": "code",
   "execution_count": 67,
   "metadata": {
    "scrolled": false
   },
   "outputs": [],
   "source": [
    "files = []\n",
    "for r, d, f in os.walk(dp2):\n",
    "    for file in f:\n",
    "        files.append(os.path.join(r, file))\n",
    "        \n",
    "timeavg = []\n",
    "ndviavg = []\n",
    "\n",
    "i = 0\n",
    "for x in files:\n",
    "    with rasterio.open(files[i]) as src:\n",
    "            ndvi = src.read(1, masked = True)\n",
    "    \n",
    "    ndvi2 = np.ma.masked_where(ndvi < 0.01, ndvi)\n",
    "    \n",
    "    fig2 = plt.figure(figsize=(10,10))\n",
    "    ax = fig2.add_subplot(111)\n",
    "    \n",
    "    plt.title(f[i] + \" NDVI Histogram\", fontsize=18, fontweight='bold')\n",
    "    plt.xlabel(\"NDVI values\", fontsize=14)\n",
    "    plt.ylabel(\"# pixels\", fontsize=14)\n",
    "    \n",
    "    b = ndvi2[~np.isnan(ndvi2)]\n",
    "    numBins = 20\n",
    "    ax.hist(b,numBins,color='blue',alpha=0.8)\n",
    "    ax.set_xlim([-1, 1])\n",
    "    fig2.savefig(\"ndvi_\" + f[i][0:8] + \"_histogram.png\", dpi=200, bbox_inches='tight', pad_inches=0.7)\n",
    "\n",
    "    \n",
    "    ndvi_adjusted = ndvi * (-255.0)\n",
    "    masked_ndvi_adjusted = np.ma.array(ndvi_adjusted, mask = (ndvi_adjusted == 0.))\n",
    "    cmap = plt.cm.RdYlGn\n",
    "    cmap.set_bad(color = 'white',alpha = 0.0)\n",
    "    img = masked_ndvi_adjusted.astype(np.uint8)\n",
    "    plt.imsave(\"ndvi_\" + f[i][0:8] + \"_colormap.tiff\", img, cmap=cmap)\n",
    "    plt.close()\n",
    "    \n",
    "    avg = np.average(b)\n",
    "    ndviavg.append(avg)\n",
    "    dates = f[i][4:8]\n",
    "    timeavg.append(dates)\n",
    "       \n",
    "    i = i + 1\n",
    "    \n",
    "fig3 = plt.figure(figsize=(10,10))\n",
    "ax2 = fig3.add_subplot(111)\n",
    "ax2.set_ylim([0, 1])\n",
    "plt.plot(timeavg, ndviavg, color = 'blue', linewidth = 4)\n",
    "plt.axhspan(0, 0.3, facecolor='r', alpha = 0.5, label = 'Unhealthy')\n",
    "plt.axhspan(0.3, 0.6, facecolor='y', alpha = 0.5, label = 'Somewhat Healthy')\n",
    "plt.axhspan(0.6, 1, facecolor='g', alpha = 0.5, label = 'Healthy')\n",
    "plt.legend()\n",
    "plt.title(\"Average NDVI Over Time\", fontsize=18, fontweight='bold')\n",
    "plt.xlabel(\"Start Date & End Date\", fontsize=14)\n",
    "plt.ylabel(\"Average NDVI\", fontsize=14)\n",
    "fig3.savefig(\"AverageNDVI_OverTime.png\", dpi=200, bbox_inches='tight', pad_inches=0.7)\n",
    "plt.close()\n",
    "\n",
    "#Written by Madeline Marquardt and Collin Engelson"
   ]
  },
  {
   "cell_type": "code",
   "execution_count": 68,
   "metadata": {},
   "outputs": [],
   "source": [
    "sp3 = os.getcwd()\n",
    "sf3 = os.listdir(sp3)\n",
    "\n",
    "for file in sf3:\n",
    "    if file.startswith('ndvi'):\n",
    "        shutil.move(os.path.join(sp3,file), os.path.join(sp2,file))\n",
    "        \n",
    "#Written by Madeline Marquardt and Collin Engelson"
   ]
  },
  {
   "cell_type": "code",
   "execution_count": 69,
   "metadata": {},
   "outputs": [],
   "source": [
    "os.chdir(sp2)\n",
    "os.mkdir('Vegetation_Indices')\n",
    "\n",
    "#Written by Madeline Marquardt and Collin Engelson"
   ]
  },
  {
   "cell_type": "code",
   "execution_count": 70,
   "metadata": {},
   "outputs": [],
   "source": [
    "sp4 = os.getcwd()\n",
    "sf4 = os.listdir(sp4)\n",
    "dp4 = sp2 + '\\\\Vegetation_Indices'\n",
    "\n",
    "for file in sf3:\n",
    "    if file.startswith('ndvi'):\n",
    "        shutil.move(os.path.join(sp4,file), os.path.join(dp4,file))\n",
    "        \n",
    "#Written by Madeline Marquardt and Collin Engelson"
   ]
  },
  {
   "cell_type": "code",
   "execution_count": 71,
   "metadata": {},
   "outputs": [],
   "source": [
    "os.chdir('Merged_Tifs')\n",
    "\n",
    "#Written by Madeline Marquardt and Collin Engelson"
   ]
  },
  {
   "cell_type": "code",
   "execution_count": 72,
   "metadata": {},
   "outputs": [],
   "source": [
    "sp3 = os.getcwd()\n",
    "sf3 = os.listdir(sp3)\n",
    "\n",
    "for file in sf3:\n",
    "    if file.startswith('Ave'):\n",
    "        shutil.move(os.path.join(sp3,file), os.path.join(sp2,file))\n",
    "        \n",
    "#Written by Madeline Marquardt and Collin Engelson"
   ]
  },
  {
   "cell_type": "code",
   "execution_count": 73,
   "metadata": {},
   "outputs": [],
   "source": [
    "os.chdir(sp2)\n",
    "os.mkdir('Average_NDVI')\n",
    "\n",
    "#Written by Madeline Marquardt and Collin Engelson"
   ]
  },
  {
   "cell_type": "code",
   "execution_count": 74,
   "metadata": {},
   "outputs": [],
   "source": [
    "sp4 = os.getcwd()\n",
    "sf4 = os.listdir(sp4)\n",
    "dp4 = sp2 + '\\\\Average_NDVI'\n",
    "\n",
    "for file in sf3:\n",
    "    if file.startswith('Ave'):\n",
    "        shutil.move(os.path.join(sp4,file), os.path.join(dp4,file))\n",
    "        \n",
    "#Written by Madeline Marquardt and Collin Engelson"
   ]
  },
  {
   "cell_type": "code",
   "execution_count": 75,
   "metadata": {},
   "outputs": [],
   "source": [
    "os.chdir(sp2)\n",
    "\n",
    "#Written by Madeline Marquardt and Collin Engelson"
   ]
  },
  {
   "cell_type": "code",
   "execution_count": 76,
   "metadata": {},
   "outputs": [],
   "source": [
    "item_types = ['PSScene3Band']\n",
    "asset_type = 'visual'\n",
    "\n",
    "#Written by Josh Tokunaga"
   ]
  },
  {
   "cell_type": "code",
   "execution_count": 77,
   "metadata": {},
   "outputs": [],
   "source": [
    "query = {\n",
    "    \"type\": \"AndFilter\",\n",
    "    \"config\": [geometry_filter, date_range_filter, cloud_cover_filter]\n",
    "}\n",
    "\n",
    "#Written by Josh Tokunaga"
   ]
  },
  {
   "cell_type": "code",
   "execution_count": 78,
   "metadata": {},
   "outputs": [],
   "source": [
    "request = filters.build_search_request(\n",
    "    query, item_types\n",
    ")\n",
    "\n",
    "#Written by Josh Tokunaga"
   ]
  },
  {
   "cell_type": "code",
   "execution_count": 79,
   "metadata": {},
   "outputs": [
    {
     "name": "stdout",
     "output_type": "stream",
     "text": [
      "id,cloud_cover,date\n"
     ]
    }
   ],
   "source": [
    "dataset = client.quick_search(request)\n",
    "\n",
    "stdout.write('id,cloud_cover,date\\n')\n",
    "\n",
    "#Written by Josh Tokunaga"
   ]
  },
  {
   "cell_type": "code",
   "execution_count": 80,
   "metadata": {},
   "outputs": [
    {
     "name": "stdout",
     "output_type": "stream",
     "text": [
      "20181217_025142_101e,0.01,2018-12-17T02:51:42.296592Z\n",
      "20181217_025143_101e,0.01,2018-12-17T02:51:43.330487Z\n",
      "20181217_025144_101e,0.01,2018-12-17T02:51:44.363859Z\n",
      "20181218_031148_0f33,0.17,2018-12-18T03:11:48.793389Z\n",
      "20181218_031147_0f33,0.08,2018-12-18T03:11:47.844952Z\n"
     ]
    }
   ],
   "source": [
    "for item in dataset.items_iter(limit=None):\n",
    "    props = item['properties']\n",
    "    stdout.write('{0},{cloud_cover},{acquired}\\n'.format(item['id'], **props))\n",
    "    \n",
    "#Written by Josh Tokunaga"
   ]
  },
  {
   "cell_type": "code",
   "execution_count": 81,
   "metadata": {},
   "outputs": [
    {
     "name": "stdout",
     "output_type": "stream",
     "text": [
      "PSScene3Band\n",
      "20181217_025142_101e\n",
      "204\n",
      "20181217_025143_101e\n",
      "204\n",
      "20181217_025144_101e\n",
      "204\n",
      "20181218_031148_0f33\n",
      "204\n",
      "20181218_031147_0f33\n",
      "204\n"
     ]
    }
   ],
   "source": [
    "for i in item_types:\n",
    "    request = api.filters.build_search_request(query, [i])  # ,name = None, interval= 'day')\n",
    "    dataset = client.quick_search(request)\n",
    "    print(i)\n",
    "    for item in dataset.items_iter(limit=100):\n",
    "        print(item['id'])\n",
    "        session = requests.Session()\n",
    "        session.auth = (PL_API_KEY, '')\n",
    "        results = \\\n",
    "            session.get(\n",
    "                (\"https://api.planet.com/data/v1/item-types/\" +\n",
    "                 \"{}/items/{}/assets/\").format(i, item['id']))\n",
    "       \n",
    "        item_activation_url = results.json()[asset_type][\"_links\"][\"activate\"]\n",
    "       \n",
    "        response = session.post(item_activation_url)\n",
    "        print(response.status_code)\n",
    "        while response.status_code != 204:\n",
    "            time.sleep(15)\n",
    "            response = session.post(item_activation_url)\n",
    "            response.status_code = response.status_code\n",
    "            print(response.status_code)\n",
    "        \n",
    "        item_url = 'https://api.planet.com/data/v1/item-types/{}/items/{}/assets'.format(i, item['id'])\n",
    "        result = requests.get(item_url, auth=HTTPBasicAuth(PL_API_KEY, ''))\n",
    "        download_url = result.json()[asset_type]['location']  # KeyError: 'location'\n",
    "        output_file = item['id'] + '.tif'\n",
    "\n",
    "        with urllib.request.urlopen(download_url) as response, open(output_file, 'wb') as out_file:\n",
    "            shutil.copyfileobj(response, out_file)"
   ]
  },
  {
   "cell_type": "code",
   "execution_count": 82,
   "metadata": {},
   "outputs": [],
   "source": [
    "os.mkdir('Original_Ash_Imagery')"
   ]
  },
  {
   "cell_type": "code",
   "execution_count": 83,
   "metadata": {},
   "outputs": [],
   "source": [
    "sp5 = os.getcwd()\n",
    "sf5 = os.listdir(sp5)\n",
    "dp5 = sp5 + ('\\\\Original_Ash_Imagery')\n",
    "for file in sf5:\n",
    "    if file.endswith('.tif'):\n",
    "        shutil.move(os.path.join(sp5,file), os.path.join(dp5, file))"
   ]
  },
  {
   "cell_type": "code",
   "execution_count": 84,
   "metadata": {},
   "outputs": [],
   "source": [
    "images = [f for f in os.listdir(dp5) if os.path.isfile(os.path.join(dp5, f))]\n",
    "\n",
    "for image in images:\n",
    "    folder_name = image.split('_')[0]\n",
    "\n",
    "    new_path = os.path.join(dp5, folder_name)\n",
    "    if not os.path.exists(new_path):\n",
    "        os.makedirs(new_path)\n",
    "\n",
    "    old_image_path = os.path.join(dp5, image)\n",
    "    new_image_path = os.path.join(new_path, image)\n",
    "    shutil.move(old_image_path, new_image_path)"
   ]
  },
  {
   "cell_type": "code",
   "execution_count": 85,
   "metadata": {},
   "outputs": [
    {
     "name": "stdout",
     "output_type": "stream",
     "text": [
      "python C:\\Users\\cengelso\\Documents\\IONS\\gdal_merge.py -o 20181217.tif -of gtiff C:\\Users\\cengelso\\Documents\\IONS\\Original_Ash_Imagery\\20181217\\20181217_025142_101e.tif C:\\Users\\cengelso\\Documents\\IONS\\Original_Ash_Imagery\\20181217\\20181217_025143_101e.tif C:\\Users\\cengelso\\Documents\\IONS\\Original_Ash_Imagery\\20181217\\20181217_025144_101e.tif\n",
      "0...10...20...30...40...50...60...70...80...90...100 - done.\n",
      "python C:\\Users\\cengelso\\Documents\\IONS\\gdal_merge.py -o 20181218.tif -of gtiff C:\\Users\\cengelso\\Documents\\IONS\\Original_Ash_Imagery\\20181218\\20181218_031147_0f33.tif C:\\Users\\cengelso\\Documents\\IONS\\Original_Ash_Imagery\\20181218\\20181218_031148_0f33.tif\n",
      "0...10...20...30...40...50...60...70...80...90...100 - done.\n"
     ]
    }
   ],
   "source": [
    "folders = []\n",
    "for r, d, f in os.walk(dp5):\n",
    "    for folder in d:\n",
    "        folders.append(os.path.join(r, folder))\n",
    "\n",
    "i = 0\n",
    "for x in folders:\n",
    "    files_to_mosaic = glob.glob(folders[i] + '/*.tif')\n",
    "    files_string = \" \".join(files_to_mosaic)\n",
    "    command = \"python \" + sp5 + \"\\gdal_merge.py -o \"+ files_string[-33:-25] + \".tif\" + \" -of gtiff \" + files_string\n",
    "    print(command)\n",
    "    i = i + 1\n",
    "    output = subprocess.getoutput(command)\n",
    "    print(output)\n",
    "    \n",
    "#Written by Josh Tokunaga and Collin Engelson"
   ]
  },
  {
   "cell_type": "code",
   "execution_count": 86,
   "metadata": {},
   "outputs": [],
   "source": [
    "os.mkdir('Merged_Ash_Tifs')\n",
    "\n",
    "#Written by Collin Engelson"
   ]
  },
  {
   "cell_type": "code",
   "execution_count": 87,
   "metadata": {},
   "outputs": [],
   "source": [
    "sp6 = os.getcwd()\n",
    "sf6 = os.listdir(sp5)\n",
    "dp6 = sp6 + ('\\\\Merged_Ash_Tifs')\n",
    "for file in sf6:\n",
    "    if file.endswith('.tif'):\n",
    "        shutil.move(os.path.join(sp6,file), os.path.join(dp6, file))\n",
    "        \n",
    "#Written by Collin Engelson"
   ]
  },
  {
   "cell_type": "code",
   "execution_count": 88,
   "metadata": {},
   "outputs": [],
   "source": [
    "os.chdir(dp6)\n",
    "\n",
    "#Written by Collin Engelson"
   ]
  },
  {
   "cell_type": "code",
   "execution_count": 89,
   "metadata": {},
   "outputs": [],
   "source": [
    "flags = [i for i in dir(cv2) if i.startswith('COLOR')]\n",
    "\n",
    "#Written by Josh Tokunaga"
   ]
  },
  {
   "cell_type": "code",
   "execution_count": 90,
   "metadata": {},
   "outputs": [],
   "source": [
    "range1_lo = (140, 130, 110, 255)\n",
    "range1_hi = (160, 152, 129, 255)\n",
    "\n",
    "range2_lo = (201, 190, 175, 255)\n",
    "range2_hi = (210, 200, 190, 255)\n",
    "\n",
    "range3_lo = (165, 165, 150, 255)\n",
    "range3_hi = (195, 185, 175, 255)\n",
    "\n",
    "range4_lo = (155, 150, 140, 255)\n",
    "range4_hi = (170, 160, 148, 255)\n",
    "\n",
    "range5_lo = (145, 142, 130, 255)\n",
    "range5_hi = (150, 147, 135, 255)\n",
    "\n",
    "range6_lo = (127, 126, 115, 255)\n",
    "range6_hi = (135, 128, 125, 255)\n",
    "\n",
    "range7_lo = (121, 118, 114, 255)\n",
    "range7_hi = (124, 123, 119, 255)\n",
    "\n",
    "range8_lo = (190, 155, 130, 255)\n",
    "range8_hi = (230, 195, 165, 255)\n",
    "\n",
    "#Written by Josh Tokunaga"
   ]
  },
  {
   "cell_type": "code",
   "execution_count": 91,
   "metadata": {},
   "outputs": [],
   "source": [
    "files = []\n",
    "for r, d, f in os.walk(dp6):\n",
    "    for file in f:\n",
    "        files.append(os.path.join(r, file))\n",
    "\n",
    "ash_pixels = []\n",
    "timeavg = []\n",
    "\n",
    "i = 0\n",
    "for x in files:\n",
    "    img = cv2.imread(files[i])\n",
    "    img2 = cv2.cvtColor(img, cv2.COLOR_BGRA2RGBA)\n",
    "    \n",
    "    mask_range1 = cv2.inRange(img2, range1_lo, range1_hi)\n",
    "    mask_range2 = cv2.inRange(img2, range2_lo, range2_hi)\n",
    "    mask_range3 = cv2.inRange(img2, range3_lo, range3_hi)\n",
    "    mask_range4 = cv2.inRange(img2, range4_lo, range4_hi)\n",
    "    mask_range5 = cv2.inRange(img2, range5_lo, range5_hi)\n",
    "    mask_range6 = cv2.inRange(img2, range6_lo, range6_hi)\n",
    "    mask_range7 = cv2.inRange(img2, range7_lo, range7_hi)\n",
    "    mask_range8 = cv2.inRange(img2, range8_lo, range8_hi)\n",
    "    \n",
    "    ash_mask = mask_range1 + mask_range2 + mask_range3 + mask_range4 + mask_range5 + mask_range6 + mask_range7 + mask_range8\n",
    "    ash_result = cv2.bitwise_and(img2, img2, mask=ash_mask)\n",
    "    \n",
    "    img[ash_mask>0]=(0,0,255)\n",
    "    cv2.imwrite('Ash_Overlay_' + f[i] + '.tif', img)\n",
    "    \n",
    "    pixel_count = cv2.countNonZero(ash_mask)\n",
    "    ash_pixels.append(pixel_count)\n",
    "    \n",
    "    dates = f[i][4:8]\n",
    "    timeavg.append(dates)\n",
    "    \n",
    "    i = i + 1\n",
    "    \n",
    "fig3 = plt.figure(figsize=(10,10))\n",
    "ax2 = fig3.add_subplot(111)\n",
    "plt.plot(timeavg, ash_pixels, color = 'blue', linewidth = 4)\n",
    "plt.title(\"Ash Coverage Over Time\", fontsize=18, fontweight='bold')\n",
    "plt.xlabel(\"Start Date & End Date\", fontsize=14)\n",
    "plt.ylabel(\"# of Pixels\", fontsize=14)\n",
    "fig3.savefig(\"Ash_Coverage_OverTime.png\", dpi=200, bbox_inches='tight', pad_inches=0.7)\n",
    "plt.close()\n",
    "\n",
    "#Written by Josh Tokunaga and Collin Engelson"
   ]
  },
  {
   "cell_type": "code",
   "execution_count": 92,
   "metadata": {},
   "outputs": [],
   "source": [
    "sp7 = os.getcwd()\n",
    "sf7 = os.listdir(sp7)\n",
    "\n",
    "for file in sf7:\n",
    "    if file.startswith('Ash'):\n",
    "        shutil.move(os.path.join(sp7,file), os.path.join(sp2,file))\n",
    "        \n",
    "#Written by Collin Engelson"
   ]
  },
  {
   "cell_type": "code",
   "execution_count": 93,
   "metadata": {},
   "outputs": [],
   "source": [
    "os.chdir(sp2)\n",
    "os.mkdir('Segmentation_Ash')\n",
    "\n",
    "#Written by Collin Engelson"
   ]
  },
  {
   "cell_type": "code",
   "execution_count": 94,
   "metadata": {},
   "outputs": [],
   "source": [
    "sp8 = os.getcwd()\n",
    "sf8 = os.listdir(sp8)\n",
    "dp8 = sp2 + '\\\\Segmentation_Ash'\n",
    "\n",
    "for file in sf8:\n",
    "    if file.startswith('Ash'):\n",
    "        shutil.move(os.path.join(sp8,file), os.path.join(dp8,file))\n",
    "        \n",
    "#Written by Collin Engelson"
   ]
  },
  {
   "cell_type": "code",
   "execution_count": 101,
   "metadata": {},
   "outputs": [
    {
     "name": "stdout",
     "output_type": "stream",
     "text": [
      "Would you like to make a new folder to store data? y/n: y\n",
      "Enter new folder name: First_Run\n"
     ]
    }
   ],
   "source": [
    "newfldr = input('Would you like to make a new folder to store data? y/n: ')\n",
    "\n",
    "if newfldr == 'n':\n",
    "    print('Goodbye')\n",
    "elif newfldr == 'y':\n",
    "    nf = input('Enter new folder name: ')\n",
    "    os.mkdir(nf)\n",
    "    \n",
    "#Written by Madeline Marquardt"
   ]
  },
  {
   "cell_type": "code",
   "execution_count": 102,
   "metadata": {},
   "outputs": [],
   "source": [
    "sp9 = os.getcwd()\n",
    "sf9 = os.listdir(sp9)\n",
    "dp9 = sp2 + '\\\\' + nf\n",
    "\n",
    "for folder in sf9:\n",
    "    if folder.startswith(('Ave', 'Mer', 'Ori', 'Seg', 'Veg')):\n",
    "        shutil.move(os.path.join(sp9,folder), os.path.join(dp9, folder))\n",
    "        \n",
    "#Written by Madeline Marquardt"
   ]
  },
  {
   "cell_type": "code",
   "execution_count": 103,
   "metadata": {},
   "outputs": [
    {
     "name": "stdout",
     "output_type": "stream",
     "text": [
      "Would you like to run another dataset? y/n: n\n",
      "Have fun\n"
     ]
    }
   ],
   "source": [
    "restart = input('Would you like to run another dataset? y/n: ')\n",
    "\n",
    "if restart == 'n':\n",
    "    print('Have fun')\n",
    "    pass\n",
    "elif restart == 'y':\n",
    "    os.execl(sys.executable, '\"{}\"'.format(sys.executable), *sys.argv)\n",
    "    \n",
    "#Written by Madeline Marquardt"
   ]
  },
  {
   "cell_type": "code",
   "execution_count": null,
   "metadata": {},
   "outputs": [],
   "source": []
  }
 ],
 "metadata": {
  "kernelspec": {
   "display_name": "Python 3",
   "language": "python",
   "name": "python3"
  },
  "language_info": {
   "codemirror_mode": {
    "name": "ipython",
    "version": 3
   },
   "file_extension": ".py",
   "mimetype": "text/x-python",
   "name": "python",
   "nbconvert_exporter": "python",
   "pygments_lexer": "ipython3",
   "version": "3.7.4"
  }
 },
 "nbformat": 4,
 "nbformat_minor": 4
}
